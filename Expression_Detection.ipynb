{
  "nbformat": 4,
  "nbformat_minor": 0,
  "metadata": {
    "colab": {
      "name": "Expression-Detection",
      "provenance": [],
      "collapsed_sections": [],
      "toc_visible": true
    },
    "kernelspec": {
      "name": "python3",
      "display_name": "Python 3"
    },
    "accelerator": "GPU"
  },
  "cells": [
    {
      "cell_type": "markdown",
      "metadata": {
        "id": "IkFcLCc6-kTd",
        "colab_type": "text"
      },
      "source": [
        "# 🐵 End-to-End Multi-Class Face Expression Classification\n",
        "\n",
        "This notebook builds and end-to-end Face Expression Detection using Keras and CNN's.\n",
        "\n",
        "## 1. Problem\n",
        "\n",
        "Identifying the face expression of a human, given an image of him/her.\n",
        "\n",
        "## 2. Data\n",
        "  \n",
        "Data is taken from Kaggle's Facial Expression Recognition Challenge:\n",
        "https://www.kaggle.com/c/challenges-in-representation-learning-facial-expression-recognition-challenge/data\n",
        "\n",
        "Currently the data from above official Kaggle link is not available. So we can take the same data from : https://www.kaggle.com/shawon10/facial-expression-detection-cnn?select=fer2013.csv\n",
        "\n",
        "## 3. Evaluation\n",
        "\n",
        "Evaluation is done based on accuracy and loss between predicted expression and actual expression.\n",
        "\n",
        "## 4. Features\n",
        "\n",
        "Some information about the data:\n",
        "* We're dealing with images(unstructured data), so better we use deep learning / transfer learning.\n",
        "* Data has 3 columns namely emotions, picture, and usage(Training/Testing).\n",
        "* Data has 35887 rows(images).\n",
        "* There are 28709 training images (with column value as Training).\n",
        "* There are 3589 testing images (with column value as PublicTest).\n",
        "* PrivateTest records are ignored as of now.\n",
        "* Data has 7 classes (emotions).\n",
        "  * 0=Angry\n",
        "  * 1=Disgust\n",
        "  * 2=Fear\n",
        "  * 3=Happy\n",
        "  * 4=Sad\n",
        "  * 5=Surprise\n",
        "  * 6=Neutral\n"
      ]
    },
    {
      "cell_type": "code",
      "metadata": {
        "id": "eAwogTJ8Jd7L",
        "colab_type": "code",
        "colab": {}
      },
      "source": [
        "# Unzip the uploaded data into google drive\n",
        "# !unzip \"drive/My Drive/Expression Detection/fer2013.csv.zip\" -d \"drive/My Drive/Expression Detection/\""
      ],
      "execution_count": 0,
      "outputs": []
    },
    {
      "cell_type": "markdown",
      "metadata": {
        "id": "xnfZb0H4LkjV",
        "colab_type": "text"
      },
      "source": [
        "## Getting our Workspace ready"
      ]
    },
    {
      "cell_type": "code",
      "metadata": {
        "id": "qANFZZf9J_-X",
        "colab_type": "code",
        "outputId": "fd30d3b7-ac4a-40e7-c45f-b15dbc1f22bd",
        "colab": {
          "base_uri": "https://localhost:8080/",
          "height": 34
        }
      },
      "source": [
        "import tensorflow as tf\n",
        "import keras\n",
        "import numpy as np\n",
        "import pandas as pd\n",
        "import matplotlib.pyplot as plt\n",
        "import cv2\n",
        "\n",
        "base_path = \"drive/My Drive/Expression Detection/\"\n",
        "%matplotlib inline\n",
        "# other imports will be done in the appropriate cells whenever necessary"
      ],
      "execution_count": 0,
      "outputs": [
        {
          "output_type": "stream",
          "text": [
            "Using TensorFlow backend.\n"
          ],
          "name": "stderr"
        }
      ]
    },
    {
      "cell_type": "markdown",
      "metadata": {
        "id": "Zm0TBcixLc51",
        "colab_type": "text"
      },
      "source": [
        "### Check GPU availability"
      ]
    },
    {
      "cell_type": "code",
      "metadata": {
        "id": "4-c93eMlL86t",
        "colab_type": "code",
        "outputId": "b5edadea-b760-4b0e-8e87-165dbbbaba48",
        "colab": {
          "base_uri": "https://localhost:8080/",
          "height": 34
        }
      },
      "source": [
        "# Check for GPU availability\n",
        "print(\"GPU \", \"available :) !!\" if tf.config.list_physical_devices(\"GPU\") else \"not available :(\")"
      ],
      "execution_count": 0,
      "outputs": [
        {
          "output_type": "stream",
          "text": [
            "GPU  available :) !!\n"
          ],
          "name": "stdout"
        }
      ]
    },
    {
      "cell_type": "markdown",
      "metadata": {
        "id": "BAzcW9XDMuqn",
        "colab_type": "text"
      },
      "source": [
        "## Getting our data ready"
      ]
    },
    {
      "cell_type": "markdown",
      "metadata": {
        "id": "G0_6chisN9aR",
        "colab_type": "text"
      },
      "source": [
        "### Importing data into numpy array"
      ]
    },
    {
      "cell_type": "code",
      "metadata": {
        "id": "5HpUapNGODVv",
        "colab_type": "code",
        "outputId": "fab5e495-300c-4453-abd3-7cdf74a8645e",
        "colab": {
          "base_uri": "https://localhost:8080/",
          "height": 204
        }
      },
      "source": [
        "raw_df = pd.read_csv(\"drive/My Drive/Expression Detection/fer2013.csv\")\n",
        "raw_df.head()"
      ],
      "execution_count": 0,
      "outputs": [
        {
          "output_type": "execute_result",
          "data": {
            "text/html": [
              "<div>\n",
              "<style scoped>\n",
              "    .dataframe tbody tr th:only-of-type {\n",
              "        vertical-align: middle;\n",
              "    }\n",
              "\n",
              "    .dataframe tbody tr th {\n",
              "        vertical-align: top;\n",
              "    }\n",
              "\n",
              "    .dataframe thead th {\n",
              "        text-align: right;\n",
              "    }\n",
              "</style>\n",
              "<table border=\"1\" class=\"dataframe\">\n",
              "  <thead>\n",
              "    <tr style=\"text-align: right;\">\n",
              "      <th></th>\n",
              "      <th>emotion</th>\n",
              "      <th>pixels</th>\n",
              "      <th>Usage</th>\n",
              "    </tr>\n",
              "  </thead>\n",
              "  <tbody>\n",
              "    <tr>\n",
              "      <th>0</th>\n",
              "      <td>0</td>\n",
              "      <td>70 80 82 72 58 58 60 63 54 58 60 48 89 115 121...</td>\n",
              "      <td>Training</td>\n",
              "    </tr>\n",
              "    <tr>\n",
              "      <th>1</th>\n",
              "      <td>0</td>\n",
              "      <td>151 150 147 155 148 133 111 140 170 174 182 15...</td>\n",
              "      <td>Training</td>\n",
              "    </tr>\n",
              "    <tr>\n",
              "      <th>2</th>\n",
              "      <td>2</td>\n",
              "      <td>231 212 156 164 174 138 161 173 182 200 106 38...</td>\n",
              "      <td>Training</td>\n",
              "    </tr>\n",
              "    <tr>\n",
              "      <th>3</th>\n",
              "      <td>4</td>\n",
              "      <td>24 32 36 30 32 23 19 20 30 41 21 22 32 34 21 1...</td>\n",
              "      <td>Training</td>\n",
              "    </tr>\n",
              "    <tr>\n",
              "      <th>4</th>\n",
              "      <td>6</td>\n",
              "      <td>4 0 0 0 0 0 0 0 0 0 0 0 3 15 23 28 48 50 58 84...</td>\n",
              "      <td>Training</td>\n",
              "    </tr>\n",
              "  </tbody>\n",
              "</table>\n",
              "</div>"
            ],
            "text/plain": [
              "   emotion                                             pixels     Usage\n",
              "0        0  70 80 82 72 58 58 60 63 54 58 60 48 89 115 121...  Training\n",
              "1        0  151 150 147 155 148 133 111 140 170 174 182 15...  Training\n",
              "2        2  231 212 156 164 174 138 161 173 182 200 106 38...  Training\n",
              "3        4  24 32 36 30 32 23 19 20 30 41 21 22 32 34 21 1...  Training\n",
              "4        6  4 0 0 0 0 0 0 0 0 0 0 0 3 15 23 28 48 50 58 84...  Training"
            ]
          },
          "metadata": {
            "tags": []
          },
          "execution_count": 4
        }
      ]
    },
    {
      "cell_type": "markdown",
      "metadata": {
        "id": "4b7tfDRPbLEJ",
        "colab_type": "text"
      },
      "source": [
        "### Exploring data"
      ]
    },
    {
      "cell_type": "code",
      "metadata": {
        "id": "sZJ07hvDQRTu",
        "colab_type": "code",
        "outputId": "e99b4e22-5a6b-4436-a4b5-c3123607e464",
        "colab": {
          "base_uri": "https://localhost:8080/",
          "height": 34
        }
      },
      "source": [
        "# Checking for number of columns\n",
        "raw_df.columns"
      ],
      "execution_count": 0,
      "outputs": [
        {
          "output_type": "execute_result",
          "data": {
            "text/plain": [
              "Index(['emotion', 'pixels', 'Usage'], dtype='object')"
            ]
          },
          "metadata": {
            "tags": []
          },
          "execution_count": 5
        }
      ]
    },
    {
      "cell_type": "code",
      "metadata": {
        "id": "Wig8DSiLQcms",
        "colab_type": "code",
        "outputId": "2705d83c-d676-4ee3-bb9f-2b1fda3181b3",
        "colab": {
          "base_uri": "https://localhost:8080/",
          "height": 187
        }
      },
      "source": [
        "# Checking for total number of records and their data_types\n",
        "raw_df.info()"
      ],
      "execution_count": 0,
      "outputs": [
        {
          "output_type": "stream",
          "text": [
            "<class 'pandas.core.frame.DataFrame'>\n",
            "RangeIndex: 35887 entries, 0 to 35886\n",
            "Data columns (total 3 columns):\n",
            " #   Column   Non-Null Count  Dtype \n",
            "---  ------   --------------  ----- \n",
            " 0   emotion  35887 non-null  int64 \n",
            " 1   pixels   35887 non-null  object\n",
            " 2   Usage    35887 non-null  object\n",
            "dtypes: int64(1), object(2)\n",
            "memory usage: 841.2+ KB\n"
          ],
          "name": "stdout"
        }
      ]
    },
    {
      "cell_type": "code",
      "metadata": {
        "id": "MRtb5NXNSOEU",
        "colab_type": "code",
        "outputId": "826babea-3e7f-4781-8f7b-f6d64345d01d",
        "colab": {
          "base_uri": "https://localhost:8080/",
          "height": 153
        }
      },
      "source": [
        "# Checking for total number of unique classes\n",
        "raw_df[\"emotion\"].value_counts()"
      ],
      "execution_count": 0,
      "outputs": [
        {
          "output_type": "execute_result",
          "data": {
            "text/plain": [
              "3    8989\n",
              "6    6198\n",
              "4    6077\n",
              "2    5121\n",
              "0    4953\n",
              "5    4002\n",
              "1     547\n",
              "Name: emotion, dtype: int64"
            ]
          },
          "metadata": {
            "tags": []
          },
          "execution_count": 7
        }
      ]
    },
    {
      "cell_type": "code",
      "metadata": {
        "id": "fZbow61GSuIf",
        "colab_type": "code",
        "outputId": "76e0bb8b-8aa1-4873-fab0-a2a846b6799f",
        "colab": {
          "base_uri": "https://localhost:8080/",
          "height": 419
        }
      },
      "source": [
        "# Checking for total number of training and testing images\n",
        "# Total training images:\n",
        "raw_df[raw_df['Usage'] == \"Training\"]"
      ],
      "execution_count": 0,
      "outputs": [
        {
          "output_type": "execute_result",
          "data": {
            "text/html": [
              "<div>\n",
              "<style scoped>\n",
              "    .dataframe tbody tr th:only-of-type {\n",
              "        vertical-align: middle;\n",
              "    }\n",
              "\n",
              "    .dataframe tbody tr th {\n",
              "        vertical-align: top;\n",
              "    }\n",
              "\n",
              "    .dataframe thead th {\n",
              "        text-align: right;\n",
              "    }\n",
              "</style>\n",
              "<table border=\"1\" class=\"dataframe\">\n",
              "  <thead>\n",
              "    <tr style=\"text-align: right;\">\n",
              "      <th></th>\n",
              "      <th>emotion</th>\n",
              "      <th>pixels</th>\n",
              "      <th>Usage</th>\n",
              "    </tr>\n",
              "  </thead>\n",
              "  <tbody>\n",
              "    <tr>\n",
              "      <th>0</th>\n",
              "      <td>0</td>\n",
              "      <td>70 80 82 72 58 58 60 63 54 58 60 48 89 115 121...</td>\n",
              "      <td>Training</td>\n",
              "    </tr>\n",
              "    <tr>\n",
              "      <th>1</th>\n",
              "      <td>0</td>\n",
              "      <td>151 150 147 155 148 133 111 140 170 174 182 15...</td>\n",
              "      <td>Training</td>\n",
              "    </tr>\n",
              "    <tr>\n",
              "      <th>2</th>\n",
              "      <td>2</td>\n",
              "      <td>231 212 156 164 174 138 161 173 182 200 106 38...</td>\n",
              "      <td>Training</td>\n",
              "    </tr>\n",
              "    <tr>\n",
              "      <th>3</th>\n",
              "      <td>4</td>\n",
              "      <td>24 32 36 30 32 23 19 20 30 41 21 22 32 34 21 1...</td>\n",
              "      <td>Training</td>\n",
              "    </tr>\n",
              "    <tr>\n",
              "      <th>4</th>\n",
              "      <td>6</td>\n",
              "      <td>4 0 0 0 0 0 0 0 0 0 0 0 3 15 23 28 48 50 58 84...</td>\n",
              "      <td>Training</td>\n",
              "    </tr>\n",
              "    <tr>\n",
              "      <th>...</th>\n",
              "      <td>...</td>\n",
              "      <td>...</td>\n",
              "      <td>...</td>\n",
              "    </tr>\n",
              "    <tr>\n",
              "      <th>28704</th>\n",
              "      <td>2</td>\n",
              "      <td>84 85 85 85 85 85 85 85 86 86 86 87 86 86 91 9...</td>\n",
              "      <td>Training</td>\n",
              "    </tr>\n",
              "    <tr>\n",
              "      <th>28705</th>\n",
              "      <td>0</td>\n",
              "      <td>114 112 113 113 111 111 112 113 115 113 114 11...</td>\n",
              "      <td>Training</td>\n",
              "    </tr>\n",
              "    <tr>\n",
              "      <th>28706</th>\n",
              "      <td>4</td>\n",
              "      <td>74 81 87 89 95 100 98 93 105 120 127 133 146 1...</td>\n",
              "      <td>Training</td>\n",
              "    </tr>\n",
              "    <tr>\n",
              "      <th>28707</th>\n",
              "      <td>0</td>\n",
              "      <td>222 227 203 90 86 90 84 77 94 87 99 119 134 14...</td>\n",
              "      <td>Training</td>\n",
              "    </tr>\n",
              "    <tr>\n",
              "      <th>28708</th>\n",
              "      <td>4</td>\n",
              "      <td>195 199 205 206 205 203 206 209 208 210 212 21...</td>\n",
              "      <td>Training</td>\n",
              "    </tr>\n",
              "  </tbody>\n",
              "</table>\n",
              "<p>28709 rows × 3 columns</p>\n",
              "</div>"
            ],
            "text/plain": [
              "       emotion                                             pixels     Usage\n",
              "0            0  70 80 82 72 58 58 60 63 54 58 60 48 89 115 121...  Training\n",
              "1            0  151 150 147 155 148 133 111 140 170 174 182 15...  Training\n",
              "2            2  231 212 156 164 174 138 161 173 182 200 106 38...  Training\n",
              "3            4  24 32 36 30 32 23 19 20 30 41 21 22 32 34 21 1...  Training\n",
              "4            6  4 0 0 0 0 0 0 0 0 0 0 0 3 15 23 28 48 50 58 84...  Training\n",
              "...        ...                                                ...       ...\n",
              "28704        2  84 85 85 85 85 85 85 85 86 86 86 87 86 86 91 9...  Training\n",
              "28705        0  114 112 113 113 111 111 112 113 115 113 114 11...  Training\n",
              "28706        4  74 81 87 89 95 100 98 93 105 120 127 133 146 1...  Training\n",
              "28707        0  222 227 203 90 86 90 84 77 94 87 99 119 134 14...  Training\n",
              "28708        4  195 199 205 206 205 203 206 209 208 210 212 21...  Training\n",
              "\n",
              "[28709 rows x 3 columns]"
            ]
          },
          "metadata": {
            "tags": []
          },
          "execution_count": 8
        }
      ]
    },
    {
      "cell_type": "code",
      "metadata": {
        "id": "CnU3LIfdYP1N",
        "colab_type": "code",
        "outputId": "7e50fc21-7b13-4144-b3cb-9cf3ee6b4ae2",
        "colab": {
          "base_uri": "https://localhost:8080/",
          "height": 419
        }
      },
      "source": [
        "# Total testing images:\n",
        "raw_df[raw_df[\"Usage\"] == \"PrivateTest\"]"
      ],
      "execution_count": 0,
      "outputs": [
        {
          "output_type": "execute_result",
          "data": {
            "text/html": [
              "<div>\n",
              "<style scoped>\n",
              "    .dataframe tbody tr th:only-of-type {\n",
              "        vertical-align: middle;\n",
              "    }\n",
              "\n",
              "    .dataframe tbody tr th {\n",
              "        vertical-align: top;\n",
              "    }\n",
              "\n",
              "    .dataframe thead th {\n",
              "        text-align: right;\n",
              "    }\n",
              "</style>\n",
              "<table border=\"1\" class=\"dataframe\">\n",
              "  <thead>\n",
              "    <tr style=\"text-align: right;\">\n",
              "      <th></th>\n",
              "      <th>emotion</th>\n",
              "      <th>pixels</th>\n",
              "      <th>Usage</th>\n",
              "    </tr>\n",
              "  </thead>\n",
              "  <tbody>\n",
              "    <tr>\n",
              "      <th>32298</th>\n",
              "      <td>0</td>\n",
              "      <td>170 118 101 88 88 75 78 82 66 74 68 59 63 64 6...</td>\n",
              "      <td>PrivateTest</td>\n",
              "    </tr>\n",
              "    <tr>\n",
              "      <th>32299</th>\n",
              "      <td>5</td>\n",
              "      <td>7 5 8 6 7 3 2 6 5 4 4 5 7 5 5 5 6 7 7 7 10 10 ...</td>\n",
              "      <td>PrivateTest</td>\n",
              "    </tr>\n",
              "    <tr>\n",
              "      <th>32300</th>\n",
              "      <td>6</td>\n",
              "      <td>232 240 241 239 237 235 246 117 24 24 22 13 12...</td>\n",
              "      <td>PrivateTest</td>\n",
              "    </tr>\n",
              "    <tr>\n",
              "      <th>32301</th>\n",
              "      <td>4</td>\n",
              "      <td>200 197 149 139 156 89 111 58 62 95 113 117 11...</td>\n",
              "      <td>PrivateTest</td>\n",
              "    </tr>\n",
              "    <tr>\n",
              "      <th>32302</th>\n",
              "      <td>2</td>\n",
              "      <td>40 28 33 56 45 33 31 78 152 194 200 186 196 20...</td>\n",
              "      <td>PrivateTest</td>\n",
              "    </tr>\n",
              "    <tr>\n",
              "      <th>...</th>\n",
              "      <td>...</td>\n",
              "      <td>...</td>\n",
              "      <td>...</td>\n",
              "    </tr>\n",
              "    <tr>\n",
              "      <th>35882</th>\n",
              "      <td>6</td>\n",
              "      <td>50 36 17 22 23 29 33 39 34 37 37 37 39 43 48 5...</td>\n",
              "      <td>PrivateTest</td>\n",
              "    </tr>\n",
              "    <tr>\n",
              "      <th>35883</th>\n",
              "      <td>3</td>\n",
              "      <td>178 174 172 173 181 188 191 194 196 199 200 20...</td>\n",
              "      <td>PrivateTest</td>\n",
              "    </tr>\n",
              "    <tr>\n",
              "      <th>35884</th>\n",
              "      <td>0</td>\n",
              "      <td>17 17 16 23 28 22 19 17 25 26 20 24 31 19 27 9...</td>\n",
              "      <td>PrivateTest</td>\n",
              "    </tr>\n",
              "    <tr>\n",
              "      <th>35885</th>\n",
              "      <td>3</td>\n",
              "      <td>30 28 28 29 31 30 42 68 79 81 77 67 67 71 63 6...</td>\n",
              "      <td>PrivateTest</td>\n",
              "    </tr>\n",
              "    <tr>\n",
              "      <th>35886</th>\n",
              "      <td>2</td>\n",
              "      <td>19 13 14 12 13 16 21 33 50 57 71 84 97 108 122...</td>\n",
              "      <td>PrivateTest</td>\n",
              "    </tr>\n",
              "  </tbody>\n",
              "</table>\n",
              "<p>3589 rows × 3 columns</p>\n",
              "</div>"
            ],
            "text/plain": [
              "       emotion                                             pixels        Usage\n",
              "32298        0  170 118 101 88 88 75 78 82 66 74 68 59 63 64 6...  PrivateTest\n",
              "32299        5  7 5 8 6 7 3 2 6 5 4 4 5 7 5 5 5 6 7 7 7 10 10 ...  PrivateTest\n",
              "32300        6  232 240 241 239 237 235 246 117 24 24 22 13 12...  PrivateTest\n",
              "32301        4  200 197 149 139 156 89 111 58 62 95 113 117 11...  PrivateTest\n",
              "32302        2  40 28 33 56 45 33 31 78 152 194 200 186 196 20...  PrivateTest\n",
              "...        ...                                                ...          ...\n",
              "35882        6  50 36 17 22 23 29 33 39 34 37 37 37 39 43 48 5...  PrivateTest\n",
              "35883        3  178 174 172 173 181 188 191 194 196 199 200 20...  PrivateTest\n",
              "35884        0  17 17 16 23 28 22 19 17 25 26 20 24 31 19 27 9...  PrivateTest\n",
              "35885        3  30 28 28 29 31 30 42 68 79 81 77 67 67 71 63 6...  PrivateTest\n",
              "35886        2  19 13 14 12 13 16 21 33 50 57 71 84 97 108 122...  PrivateTest\n",
              "\n",
              "[3589 rows x 3 columns]"
            ]
          },
          "metadata": {
            "tags": []
          },
          "execution_count": 9
        }
      ]
    },
    {
      "cell_type": "code",
      "metadata": {
        "id": "wzqFsOlvYcr0",
        "colab_type": "code",
        "outputId": "505b8c5c-7adb-437b-ae8e-858432e5b0e6",
        "colab": {
          "base_uri": "https://localhost:8080/",
          "height": 85
        }
      },
      "source": [
        "# Checking total unique values in Usage column\n",
        "raw_df[\"Usage\"].value_counts()"
      ],
      "execution_count": 0,
      "outputs": [
        {
          "output_type": "execute_result",
          "data": {
            "text/plain": [
              "Training       28709\n",
              "PrivateTest     3589\n",
              "PublicTest      3589\n",
              "Name: Usage, dtype: int64"
            ]
          },
          "metadata": {
            "tags": []
          },
          "execution_count": 10
        }
      ]
    },
    {
      "cell_type": "code",
      "metadata": {
        "id": "FIUMo-7PZY-Y",
        "colab_type": "code",
        "outputId": "606e2f63-cb18-4712-a243-9b2ea3c4ad83",
        "colab": {
          "base_uri": "https://localhost:8080/",
          "height": 617
        }
      },
      "source": [
        "# Check the distribution of various emotions in the dataset\n",
        "x_labels = ['angry', 'disgust', 'fear', 'happy', 'sad', 'surprise', 'neutral']\n",
        "plt.figure(figsize=(10,10))\n",
        "ax = raw_df[\"emotion\"].value_counts().plot(kind='bar')\n",
        "ax.set_xticklabels(x_labels);\n",
        "ax.tick_params(axis='x', colors='lightblue', rotation=45)\n",
        "ax.tick_params(axis='y', colors='lightblue')"
      ],
      "execution_count": 0,
      "outputs": [
        {
          "output_type": "display_data",
          "data": {
            "image/png": "[encoded data removed]",
            "text/plain": [
              "<Figure size 720x720 with 1 Axes>"
            ]
          },
          "metadata": {
            "tags": [],
            "needs_background": "dark"
          }
        }
      ]
    },
    {
      "cell_type": "markdown",
      "metadata": {
        "id": "jh3bmA1DYssA",
        "colab_type": "text"
      },
      "source": [
        "## Creating Training and Test Sets"
      ]
    },
    {
      "cell_type": "code",
      "metadata": {
        "id": "JmNLd1D3fLo0",
        "colab_type": "code",
        "colab": {}
      },
      "source": [
        "# X_train = raw_df['pixels'][raw_df[\"Usage\"] == \"Training\"]\n",
        "# y_train = raw_df['emotion'][raw_df[\"Usage\"] == \"Training\"]\n",
        "# X_test = raw_df['pixels'][raw_df[\"Usage\"] == \"PublicTest\"]\n",
        "# y_test= raw_df['emotion'][raw_df[\"Usage\"] == \"PublicTest\"]\n",
        "# X_train.shape, y_train.shape, X_test.shape, y_test.shape"
      ],
      "execution_count": 0,
      "outputs": []
    },
    {
      "cell_type": "markdown",
      "metadata": {
        "id": "oi4kPRFFIk8n",
        "colab_type": "text"
      },
      "source": [
        "### Initialize the total number of classes"
      ]
    },
    {
      "cell_type": "code",
      "metadata": {
        "id": "s6kTKiJ6ekYz",
        "colab_type": "code",
        "colab": {}
      },
      "source": [
        "# Initialize the total number of classes\n",
        "num_classes = 7 #angry, disgust, fear, happy, sad, surprise, neutral"
      ],
      "execution_count": 0,
      "outputs": []
    },
    {
      "cell_type": "markdown",
      "metadata": {
        "id": "6V-VEHLQIs-s",
        "colab_type": "text"
      },
      "source": [
        "### Initialize training and test datasets"
      ]
    },
    {
      "cell_type": "code",
      "metadata": {
        "id": "JMz11NyCeE0B",
        "colab_type": "code",
        "colab": {}
      },
      "source": [
        "# Initialize training and test datasets\n",
        "X_train, y_train, X_test, y_test = [], [], [], []"
      ],
      "execution_count": 0,
      "outputs": []
    },
    {
      "cell_type": "code",
      "metadata": {
        "id": "uWYM7wGpfPKU",
        "colab_type": "code",
        "colab": {}
      },
      "source": [
        "# Transform train and test data sets\n",
        "\n",
        "# Loop through the entire dataframe\n",
        "for index, row in raw_df.iterrows():\n",
        "  # transform pixels\n",
        "  pixels_val = row[\"pixels\"]\n",
        "  pixels = np.array(pixels_val.split(\" \"), dtype='float32')\n",
        "\n",
        "  # transform emotions\n",
        "  emotion_val = row[\"emotion\"]\n",
        "  emotion = keras.utils.to_categorical(emotion_val, num_classes=num_classes)\n",
        "\n",
        "  # Split the data based on usage\n",
        "  usage = row[\"Usage\"]\n",
        "\n",
        "  if \"Training\" in usage:\n",
        "    X_train.append(pixels)\n",
        "    y_train.append(emotion)\n",
        "  elif \"PublicTest\" in usage:\n",
        "    X_test.append(pixels)\n",
        "    y_test.append(emotion)"
      ],
      "execution_count": 0,
      "outputs": []
    },
    {
      "cell_type": "code",
      "metadata": {
        "id": "K2crbrOHb45O",
        "colab_type": "code",
        "outputId": "5ad8ab9b-a171-4487-afdb-d79296639db5",
        "colab": {
          "base_uri": "https://localhost:8080/",
          "height": 1000
        }
      },
      "source": [
        "X_train"
      ],
      "execution_count": 0,
      "outputs": [
        {
          "output_type": "execute_result",
          "data": {
            "text/plain": [
              "[array([ 70.,  80.,  82., ..., 106., 109.,  82.], dtype=float32),\n",
              " array([151., 150., 147., ..., 193., 183., 184.], dtype=float32),\n",
              " array([231., 212., 156., ...,  88., 110., 152.], dtype=float32),\n",
              " array([ 24.,  32.,  36., ..., 142., 143., 142.], dtype=float32),\n",
              " array([ 4.,  0.,  0., ..., 30., 29., 30.], dtype=float32),\n",
              " array([55., 55., 55., ..., 34., 30., 57.], dtype=float32),\n",
              " array([ 20.,  17.,  19., ...,  99., 107., 118.], dtype=float32),\n",
              " array([ 77.,  78.,  79., ..., 125.,  67.,  68.], dtype=float32),\n",
              " array([85., 84., 90., ..., 58., 73., 84.], dtype=float32),\n",
              " array([255., 254., 255., ..., 254., 255., 255.], dtype=float32),\n",
              " array([ 30.,  24.,  21., ..., 172., 173., 173.], dtype=float32),\n",
              " array([39., 75., 78., ..., 84., 83., 87.], dtype=float32),\n",
              " array([219., 213., 206., ...,   0.,   0.,   0.], dtype=float32),\n",
              " array([148., 144., 130., ..., 112., 111., 111.], dtype=float32),\n",
              " array([ 4.,  2., 13., ...,  3.,  7., 12.], dtype=float32),\n",
              " array([107., 107., 109., ...,  83.,  84., 106.], dtype=float32),\n",
              " array([14., 14., 18., ...,  9., 10., 10.], dtype=float32),\n",
              " array([255., 255., 255., ...,  79.,  79.,  83.], dtype=float32),\n",
              " array([134., 124., 167., ...,  34.,  28., 139.], dtype=float32),\n",
              " array([219., 192., 179., ...,  57.,  39.,  40.], dtype=float32),\n",
              " array([  1.,   1.,   1., ..., 213., 211., 215.], dtype=float32),\n",
              " array([174.,  51.,  37., ...,   7.,  11.,  16.], dtype=float32),\n",
              " array([123., 125., 124., ...,  97.,  91.,  89.], dtype=float32),\n",
              " array([  8.,   9.,  14., ..., 103., 122., 130.], dtype=float32),\n",
              " array([252., 250., 246., ...,  62.,  47.,  30.], dtype=float32),\n",
              " array([224., 227., 219., ...,  17.,  75., 166.], dtype=float32),\n",
              " array([162., 200., 187., ..., 113., 113.,  94.], dtype=float32),\n",
              " array([236., 230., 225., ..., 152., 155., 173.], dtype=float32),\n",
              " array([210., 210., 210., ...,  85.,  82., 144.], dtype=float32),\n",
              " array([50., 44., 74., ..., 35., 35., 30.], dtype=float32),\n",
              " array([234., 233., 228., ...,  95., 164., 169.], dtype=float32),\n",
              " array([244., 214., 198., ..., 176., 175., 123.], dtype=float32),\n",
              " array([ 88., 116., 108., ..., 243., 243., 243.], dtype=float32),\n",
              " array([ 59.,  63.,  70., ..., 215., 215., 214.], dtype=float32),\n",
              " array([ 66.,  63.,  76., ..., 255., 255., 255.], dtype=float32),\n",
              " array([ 81., 106.,  91., ..., 103., 105., 105.], dtype=float32),\n",
              " array([185., 179., 183., ..., 110., 106.,  75.], dtype=float32),\n",
              " array([40., 46., 42., ..., 17., 18., 18.], dtype=float32),\n",
              " array([255.,  82.,   0., ..., 254., 254., 254.], dtype=float32),\n",
              " array([68., 69., 67., ..., 15., 15., 10.], dtype=float32),\n",
              " array([ 74.,  66.,  82., ..., 214., 214., 214.], dtype=float32),\n",
              " array([ 63.,  58.,  60., ..., 105., 109., 108.], dtype=float32),\n",
              " array([157., 160., 161., ..., 236., 249., 248.], dtype=float32),\n",
              " array([206., 208., 209., ...,  29.,  40.,   5.], dtype=float32),\n",
              " array([69., 68., 68., ..., 35., 28., 43.], dtype=float32),\n",
              " array([ 77.,  52.,  67., ..., 248., 250., 237.], dtype=float32),\n",
              " array([144., 143., 127., ...,  58.,  62.,  64.], dtype=float32),\n",
              " array([128., 119.,  78., ..., 177., 171., 166.], dtype=float32),\n",
              " array([192., 153., 168., ..., 134., 134., 136.], dtype=float32),\n",
              " array([166., 124.,  94., ...,  64.,  62.,  61.], dtype=float32),\n",
              " array([ 99.,  95., 101., ..., 255., 123.,  63.], dtype=float32),\n",
              " array([  1.,   1.,   5., ..., 201., 196., 192.], dtype=float32),\n",
              " array([225., 220., 220., ..., 223., 213., 216.], dtype=float32),\n",
              " array([255., 255., 255., ..., 211., 193., 145.], dtype=float32),\n",
              " array([ 99.,  96., 105., ...,  30.,  34.,  37.], dtype=float32),\n",
              " array([255., 255., 255., ...,  36.,  35.,  64.], dtype=float32),\n",
              " array([57., 62., 88., ...,  8.,  8.,  8.], dtype=float32),\n",
              " array([232., 234., 229., ..., 251., 239., 243.], dtype=float32),\n",
              " array([108., 104.,  84., ..., 108., 121., 138.], dtype=float32),\n",
              " array([  0.,   0.,   0., ..., 176., 250.,  68.], dtype=float32),\n",
              " array([120., 129., 129., ..., 147.,  81.,  78.], dtype=float32),\n",
              " array([175., 138., 141., ..., 234., 234., 234.], dtype=float32),\n",
              " array([210., 161., 140., ...,  82.,  58.,  34.], dtype=float32),\n",
              " array([255., 255., 255., ..., 254., 254., 254.], dtype=float32),\n",
              " array([244., 244., 245., ...,  67.,  66.,  65.], dtype=float32),\n",
              " array([117., 116., 113., ...,  46.,  47.,  49.], dtype=float32),\n",
              " array([140., 153., 159., ...,  78.,  61., 104.], dtype=float32),\n",
              " array([255., 254., 255., ...,  38.,  38.,  38.], dtype=float32),\n",
              " array([ 16.,  18.,  17., ..., 129., 117., 110.], dtype=float32),\n",
              " array([ 43.,  43.,  43., ..., 198., 187., 170.], dtype=float32),\n",
              " array([223., 223., 227., ..., 202., 204., 191.], dtype=float32),\n",
              " array([ 94., 133., 133., ..., 153., 162., 113.], dtype=float32),\n",
              " array([255., 255., 255., ...,  83., 105., 105.], dtype=float32),\n",
              " array([219., 210., 201., ..., 128., 128., 133.], dtype=float32),\n",
              " array([12., 12., 11., ...,  0.,  0.,  0.], dtype=float32),\n",
              " array([122.,  82., 110., ...,  10.,  16.,   9.], dtype=float32),\n",
              " array([165., 138., 108., ...,  17.,  16.,  15.], dtype=float32),\n",
              " array([124., 121., 108., ...,  15.,  17.,  17.], dtype=float32),\n",
              " array([33., 31., 34., ..., 31.,  2., 11.], dtype=float32),\n",
              " array([ 52.,  81., 103., ..., 184., 183., 178.], dtype=float32),\n",
              " array([208., 211., 189., ..., 218., 207., 210.], dtype=float32),\n",
              " array([253., 200.,  93., ...,  47.,  57.,  30.], dtype=float32),\n",
              " array([157., 156., 156., ...,  60.,  62.,  69.], dtype=float32),\n",
              " array([187., 189., 192., ..., 229., 229., 231.], dtype=float32),\n",
              " array([ 45.,  55.,  51., ..., 189., 181., 160.], dtype=float32),\n",
              " array([162., 161., 162., ...,   3.,   7.,  10.], dtype=float32),\n",
              " array([157.,  89.,  29., ..., 229., 255., 168.], dtype=float32),\n",
              " array([117.,  83.,  75., ..., 169., 172., 170.], dtype=float32),\n",
              " array([ 53., 102., 107., ..., 225., 219., 216.], dtype=float32),\n",
              " array([0., 0., 0., ..., 0., 0., 0.], dtype=float32),\n",
              " array([239., 232., 251., ...,  36.,  27.,  68.], dtype=float32),\n",
              " array([255., 255., 254., ...,  39.,  37.,  38.], dtype=float32),\n",
              " array([74., 58., 23., ..., 25., 45., 83.], dtype=float32),\n",
              " array([186., 181., 178., ..., 111., 113., 115.], dtype=float32),\n",
              " array([255., 254., 254., ..., 253., 254., 254.], dtype=float32),\n",
              " array([ 70.,  81., 103., ...,  54.,  58.,  69.], dtype=float32),\n",
              " array([91., 37., 22., ..., 52., 47., 42.], dtype=float32),\n",
              " array([ 15.,  16.,  19., ..., 218., 226., 229.], dtype=float32),\n",
              " array([124., 109.,  86., ..., 106., 109., 115.], dtype=float32),\n",
              " array([111., 106., 107., ...,  95., 107., 101.], dtype=float32),\n",
              " array([162., 161., 159., ..., 192., 193., 196.], dtype=float32),\n",
              " array([ 15.,  22.,  26., ..., 233., 233., 234.], dtype=float32),\n",
              " array([ 58., 108., 121., ...,  75.,  70.,  44.], dtype=float32),\n",
              " array([  7.,   5.,   8., ..., 153., 145., 135.], dtype=float32),\n",
              " array([249., 249., 249., ..., 248., 254., 134.], dtype=float32),\n",
              " array([104.,  97.,  94., ...,   7.,  56.,  34.], dtype=float32),\n",
              " array([  1.,   0.,   0., ..., 193., 169., 169.], dtype=float32),\n",
              " array([179., 175., 176., ...,  72.,  36.,  23.], dtype=float32),\n",
              " array([255., 255., 255., ...,  40.,  38.,  44.], dtype=float32),\n",
              " array([150., 127., 123., ..., 183., 184., 196.], dtype=float32),\n",
              " array([241., 240., 196., ..., 232., 233., 233.], dtype=float32),\n",
              " array([172., 172., 172., ..., 185., 181., 176.], dtype=float32),\n",
              " array([125.,  83.,  77., ..., 188., 189., 188.], dtype=float32),\n",
              " array([  1.,   1.,   2., ..., 138., 118., 125.], dtype=float32),\n",
              " array([ 75.,  19.,   4., ..., 135., 143., 132.], dtype=float32),\n",
              " array([64., 25., 51., ..., 13.,  6.,  3.], dtype=float32),\n",
              " array([0., 0., 0., ..., 0., 0., 0.], dtype=float32),\n",
              " array([ 80., 101., 164., ...,  71.,  97., 119.], dtype=float32),\n",
              " array([ 24.,  67.,  68., ..., 148., 141., 140.], dtype=float32),\n",
              " array([32., 27., 18., ...,  0.,  0.,  1.], dtype=float32),\n",
              " array([254., 253., 253., ..., 146., 123., 123.], dtype=float32),\n",
              " array([233., 234., 218., ...,   0.,  34.,  82.], dtype=float32),\n",
              " array([ 42.,  44.,  44., ...,  68., 106., 168.], dtype=float32),\n",
              " array([107.,  85.,  75., ...,  56.,  51.,  46.], dtype=float32),\n",
              " array([105., 104., 107., ...,  87.,  75.,  56.], dtype=float32),\n",
              " array([208., 128.,  68., ..., 139., 141., 148.], dtype=float32),\n",
              " array([0., 1., 2., ..., 0., 0., 0.], dtype=float32),\n",
              " array([116., 123., 127., ..., 160., 155.,  87.], dtype=float32),\n",
              " array([140., 140., 141., ...,  74., 109., 145.], dtype=float32),\n",
              " array([  0.,   0.,   0., ..., 119., 135., 143.], dtype=float32),\n",
              " array([197., 190., 181., ..., 116., 116., 116.], dtype=float32),\n",
              " array([215., 215., 212., ...,  62.,  50.,  61.], dtype=float32),\n",
              " array([255., 255., 255., ..., 145.,  15.,  18.], dtype=float32),\n",
              " array([164., 165., 164., ...,  51.,  45.,  41.], dtype=float32),\n",
              " array([156., 157., 141., ..., 119., 117., 117.], dtype=float32),\n",
              " array([28., 20., 23., ..., 32., 33., 46.], dtype=float32),\n",
              " array([43., 43., 38., ...,  4.,  3.,  3.], dtype=float32),\n",
              " array([12., 44., 40., ..., 62., 62., 63.], dtype=float32),\n",
              " array([214., 215., 215., ..., 132., 124., 108.], dtype=float32),\n",
              " array([155., 148., 147., ..., 117., 149., 154.], dtype=float32),\n",
              " array([255., 255., 255., ..., 207., 210., 200.], dtype=float32),\n",
              " array([240., 242., 242., ..., 223., 189., 174.], dtype=float32),\n",
              " array([ 25.,  24.,  26., ..., 230., 231., 227.], dtype=float32),\n",
              " array([206., 142.,  59., ...,  24.,  46.,  65.], dtype=float32),\n",
              " array([  4.,   3.,   4., ..., 205.,  37.,   2.], dtype=float32),\n",
              " array([ 98., 104., 102., ...,  65.,  81.,  60.], dtype=float32),\n",
              " array([64., 58., 58., ..., 63., 65., 47.], dtype=float32),\n",
              " array([  0.,   0.,   0., ..., 247., 243., 248.], dtype=float32),\n",
              " array([233., 232., 232., ..., 241., 241., 242.], dtype=float32),\n",
              " array([251., 190.,  75., ...,  42., 103., 227.], dtype=float32),\n",
              " array([105., 112., 119., ..., 134., 149., 164.], dtype=float32),\n",
              " array([135., 134., 119., ...,  68.,  87., 116.], dtype=float32),\n",
              " array([215., 219., 224., ..., 138., 117., 169.], dtype=float32),\n",
              " array([62., 73., 78., ..., 79., 81., 83.], dtype=float32),\n",
              " array([51., 73., 82., ..., 54., 49., 53.], dtype=float32),\n",
              " array([254., 254., 253., ..., 151., 149., 150.], dtype=float32),\n",
              " array([167., 149., 110., ...,  14.,  17.,  17.], dtype=float32),\n",
              " array([254., 253., 252., ..., 137., 149., 135.], dtype=float32),\n",
              " array([155., 142., 153., ...,  43.,  89.,  99.], dtype=float32),\n",
              " array([20., 22., 25., ..., 44., 46., 63.], dtype=float32),\n",
              " array([185., 108., 140., ..., 124., 116., 100.], dtype=float32),\n",
              " array([102., 102.,  88., ...,  94., 116., 123.], dtype=float32),\n",
              " array([223., 223., 223., ..., 140., 136., 135.], dtype=float32),\n",
              " array([247., 243., 241., ..., 211., 159., 156.], dtype=float32),\n",
              " array([ 97.,  70.,  64., ..., 219., 217., 210.], dtype=float32),\n",
              " array([ 44.,  64.,  55., ...,  90., 110., 116.], dtype=float32),\n",
              " array([172., 173., 173., ...,   3.,  19.,  14.], dtype=float32),\n",
              " array([247., 247., 248., ..., 109.,  86.,  68.], dtype=float32),\n",
              " array([141., 150., 120., ...,  51.,  73.,  70.], dtype=float32),\n",
              " array([ 68.,  31.,  21., ..., 164., 180., 172.], dtype=float32),\n",
              " array([ 81.,  79.,  83., ..., 181., 183., 183.], dtype=float32),\n",
              " array([214., 198., 222., ..., 120., 133., 117.], dtype=float32),\n",
              " array([ 37.,  51.,  29., ..., 133.,  40.,  61.], dtype=float32),\n",
              " array([124., 101.,  98., ..., 141., 108.,  55.], dtype=float32),\n",
              " array([  8.,   7.,  10., ..., 139., 132., 129.], dtype=float32),\n",
              " array([237., 102.,  57., ..., 248., 254., 254.], dtype=float32),\n",
              " array([ 74.,  61.,  73., ..., 168.,  50.,  46.], dtype=float32),\n",
              " array([83., 87., 91., ..., 47., 49., 52.], dtype=float32),\n",
              " array([254., 252., 251., ..., 254., 254., 254.], dtype=float32),\n",
              " array([ 54.,  48.,  47., ...,  96., 109.,  41.], dtype=float32),\n",
              " array([49., 24., 18., ..., 24., 31., 35.], dtype=float32),\n",
              " array([126., 132., 132., ..., 219., 222., 222.], dtype=float32),\n",
              " array([249., 249., 250., ..., 135., 139., 144.], dtype=float32),\n",
              " array([ 77.,  49.,  76., ..., 183., 187., 187.], dtype=float32),\n",
              " array([115., 117., 113., ...,  94.,  86.,  79.], dtype=float32),\n",
              " array([177., 177., 177., ..., 101., 148., 147.], dtype=float32),\n",
              " array([ 64.,  71.,  70., ..., 161., 144., 123.], dtype=float32),\n",
              " array([ 1.,  0.,  4., ..., 12., 12., 17.], dtype=float32),\n",
              " array([ 69.,  82.,  78., ..., 109., 115., 118.], dtype=float32),\n",
              " array([139., 141., 153., ...,  23.,  24.,  25.], dtype=float32),\n",
              " array([101., 114., 141., ..., 188.,  98., 112.], dtype=float32),\n",
              " array([255., 255., 255., ..., 104.,  94.,  86.], dtype=float32),\n",
              " array([50., 42., 30., ...,  0.,  9.,  7.], dtype=float32),\n",
              " array([ 37.,  38.,  38., ..., 174., 160., 160.], dtype=float32),\n",
              " array([252., 254., 254., ..., 149., 154., 153.], dtype=float32),\n",
              " array([150., 147., 140., ...,  76.,  47.,  50.], dtype=float32),\n",
              " array([17., 12.,  8., ...,  7.,  6.,  7.], dtype=float32),\n",
              " array([42., 68., 58., ..., 51., 55., 57.], dtype=float32),\n",
              " array([21., 13.,  4., ...,  0., 28.,  8.], dtype=float32),\n",
              " array([  3.,   5.,   7., ..., 130.,  88.,  94.], dtype=float32),\n",
              " array([134., 136., 121., ..., 169., 171., 171.], dtype=float32),\n",
              " array([175., 203., 210., ..., 156., 152., 155.], dtype=float32),\n",
              " array([64., 65., 76., ..., 13., 11.,  7.], dtype=float32),\n",
              " array([136., 137., 136., ..., 137., 136., 135.], dtype=float32),\n",
              " array([162., 218., 208., ..., 112., 130., 133.], dtype=float32),\n",
              " array([196., 114.,  51., ...,  11.,  19.,  20.], dtype=float32),\n",
              " array([117., 110.,  91., ...,   9.,  18.,  30.], dtype=float32),\n",
              " array([200., 198., 197., ..., 165., 187., 190.], dtype=float32),\n",
              " array([255., 255., 255., ...,  75., 145., 200.], dtype=float32),\n",
              " array([143., 132., 126., ..., 236., 236., 236.], dtype=float32),\n",
              " array([188., 194., 186., ..., 178., 111., 122.], dtype=float32),\n",
              " array([207., 206., 212., ...,  39.,  40.,  40.], dtype=float32),\n",
              " array([165., 166., 157., ...,   9.,   9.,  10.], dtype=float32),\n",
              " array([26., 25., 25., ...,  2.,  4.,  5.], dtype=float32),\n",
              " array([183., 183., 186., ..., 255., 255., 255.], dtype=float32),\n",
              " array([ 41.,  38.,  52., ..., 219., 209., 216.], dtype=float32),\n",
              " array([250., 250., 245., ..., 239., 253., 255.], dtype=float32),\n",
              " array([189., 143.,  24., ..., 184., 187., 187.], dtype=float32),\n",
              " array([159., 118.,  85., ..., 195., 185., 174.], dtype=float32),\n",
              " array([ 35.,  27.,  60., ..., 138., 143., 148.], dtype=float32),\n",
              " array([56., 39., 41., ..., 60., 56., 37.], dtype=float32),\n",
              " array([42., 42., 37., ..., 18., 12.,  2.], dtype=float32),\n",
              " array([127., 112., 100., ..., 186., 172., 177.], dtype=float32),\n",
              " array([26., 25., 32., ..., 45., 54., 57.], dtype=float32),\n",
              " array([230., 227., 226., ..., 132., 137., 154.], dtype=float32),\n",
              " array([210., 202., 186., ..., 163., 168., 169.], dtype=float32),\n",
              " array([ 97.,  97.,  97., ..., 115., 113., 113.], dtype=float32),\n",
              " array([219., 222., 223., ..., 112., 110., 113.], dtype=float32),\n",
              " array([ 65.,  85.,  94., ..., 190., 207., 210.], dtype=float32),\n",
              " array([ 75.,  61.,  41., ...,  48.,  90., 157.], dtype=float32),\n",
              " array([209., 209., 207., ...,   7.,   8.,   6.], dtype=float32),\n",
              " array([ 72.,  50.,  43., ..., 133., 146., 148.], dtype=float32),\n",
              " array([145., 226., 242., ..., 109., 101., 142.], dtype=float32),\n",
              " array([32., 25., 19., ..., 65., 53., 62.], dtype=float32),\n",
              " array([149., 135.,  77., ...,   2.,   3.,   6.], dtype=float32),\n",
              " array([37., 51., 56., ..., 62., 54., 69.], dtype=float32),\n",
              " array([ 63.,  66.,  65., ..., 106.,  89.,  90.], dtype=float32),\n",
              " array([ 57.,  68.,  89., ..., 100.,  33.,  43.], dtype=float32),\n",
              " array([ 65.,  49.,  54., ...,  96.,  99., 105.], dtype=float32),\n",
              " array([22., 19., 19., ...,  4.,  3.,  3.], dtype=float32),\n",
              " array([ 22.,  17.,  20., ..., 196., 196., 196.], dtype=float32),\n",
              " array([ 53.,  67.,  75., ...,  63., 139.,  90.], dtype=float32),\n",
              " array([109., 111., 109., ...,  11.,  17.,  21.], dtype=float32),\n",
              " array([19., 22., 26., ..., 18., 17., 14.], dtype=float32),\n",
              " array([110., 109., 109., ..., 100.,  99.,  99.], dtype=float32),\n",
              " array([104., 137., 135., ..., 129., 128., 128.], dtype=float32),\n",
              " array([29., 28., 29., ..., 78., 61., 70.], dtype=float32),\n",
              " array([10., 11., 11., ..., 13., 16., 21.], dtype=float32),\n",
              " array([148., 151., 149., ..., 184., 182., 180.], dtype=float32),\n",
              " array([ 43.,  42.,  36., ..., 103.,  97.,  95.], dtype=float32),\n",
              " array([16., 23., 33., ..., 27., 35., 41.], dtype=float32),\n",
              " array([18., 19., 23., ...,  8.,  9.,  8.], dtype=float32),\n",
              " array([241., 251., 142., ...,  21.,  27.,  17.], dtype=float32),\n",
              " array([74., 70., 52., ...,  6., 16., 36.], dtype=float32),\n",
              " array([ 89.,  98., 106., ...,  35.,  22.,  18.], dtype=float32),\n",
              " array([40., 57., 75., ..., 52., 69., 80.], dtype=float32),\n",
              " array([157., 147., 140., ..., 248., 248., 248.], dtype=float32),\n",
              " array([115.,  42.,  35., ..., 160., 166., 163.], dtype=float32),\n",
              " array([ 81.,  57.,  49., ..., 168., 151., 142.], dtype=float32),\n",
              " array([157.,  96., 107., ..., 159., 147., 138.], dtype=float32),\n",
              " array([103., 100.,  81., ...,  95.,  87.,  92.], dtype=float32),\n",
              " array([55., 58., 55., ..., 82., 78., 90.], dtype=float32),\n",
              " array([ 25.,  24.,  26., ..., 132., 248., 255.], dtype=float32),\n",
              " array([72., 63., 33., ..., 42., 41., 40.], dtype=float32),\n",
              " array([254., 245., 186., ..., 159., 148., 143.], dtype=float32),\n",
              " array([113., 111., 123., ...,  45.,  22.,  22.], dtype=float32),\n",
              " array([239., 239., 238., ...,  63., 106., 139.], dtype=float32),\n",
              " array([ 7., 10., 22., ..., 13., 14., 12.], dtype=float32),\n",
              " array([ 82.,  97., 116., ...,  25.,  26.,  31.], dtype=float32),\n",
              " array([254., 254., 253., ..., 254., 254., 254.], dtype=float32),\n",
              " array([119.,  96.,  62., ...,  94.,  76.,  61.], dtype=float32),\n",
              " array([160., 173., 184., ...,   5.,   1.,   2.], dtype=float32),\n",
              " array([ 62.,  64.,  65., ..., 106., 108., 110.], dtype=float32),\n",
              " array([28., 28., 29., ..., 60., 60., 60.], dtype=float32),\n",
              " array([250., 250., 247., ...,  73.,  52.,  42.], dtype=float32),\n",
              " array([ 96.,  48., 142., ...,  28.,  28.,  28.], dtype=float32),\n",
              " array([255., 249., 246., ..., 248., 246., 245.], dtype=float32),\n",
              " array([64., 77., 69., ...,  0.,  2.,  5.], dtype=float32),\n",
              " array([128., 129., 126., ...,   1.,   1.,   1.], dtype=float32),\n",
              " array([ 30.,  57., 132., ..., 123., 111.,  95.], dtype=float32),\n",
              " array([ 10.,  42.,  54., ..., 176., 181., 170.], dtype=float32),\n",
              " array([ 19.,  15.,  14., ..., 131., 113., 105.], dtype=float32),\n",
              " array([254., 124.,  71., ...,  82.,  62.,  43.], dtype=float32),\n",
              " array([126., 118., 108., ..., 200.,  96.,  47.], dtype=float32),\n",
              " array([ 40.,  40.,  40., ..., 109., 137., 145.], dtype=float32),\n",
              " array([11., 15., 23., ...,  5.,  8., 10.], dtype=float32),\n",
              " array([18., 17., 18., ..., 40., 60., 54.], dtype=float32),\n",
              " array([136., 137., 129., ..., 162., 161., 161.], dtype=float32),\n",
              " array([171., 170., 169., ...,  50.,  37.,  29.], dtype=float32),\n",
              " array([133., 146., 146., ...,  29.,  66.,  78.], dtype=float32),\n",
              " array([  4.,   4.,   3., ..., 243., 244., 243.], dtype=float32),\n",
              " array([167., 172., 180., ..., 236., 232., 228.], dtype=float32),\n",
              " array([255., 185.,  85., ...,  37.,  11.,  12.], dtype=float32),\n",
              " array([222., 238., 232., ..., 174., 159., 155.], dtype=float32),\n",
              " array([113.,  13.,  32., ..., 115.,  97.,  67.], dtype=float32),\n",
              " array([39., 38., 40., ..., 59., 62., 67.], dtype=float32),\n",
              " array([ 77.,  76.,  84., ..., 197., 221., 241.], dtype=float32),\n",
              " array([229., 229., 232., ...,  68.,  54.,  70.], dtype=float32),\n",
              " array([39., 39., 39., ..., 61., 56., 54.], dtype=float32),\n",
              " array([126., 126., 129., ..., 107., 199., 208.], dtype=float32),\n",
              " array([238., 240., 241., ...,  76.,  82., 114.], dtype=float32),\n",
              " array([207., 215., 217., ..., 116., 106., 102.], dtype=float32),\n",
              " array([ 91.,  95., 100., ..., 150., 124., 118.], dtype=float32),\n",
              " array([ 29.,  24.,   9., ..., 162., 166., 169.], dtype=float32),\n",
              " array([255., 255., 255., ..., 255., 255., 255.], dtype=float32),\n",
              " array([205., 201., 193., ...,  63.,  64.,  52.], dtype=float32),\n",
              " array([ 54.,  55.,  54., ..., 175., 160., 169.], dtype=float32),\n",
              " array([ 28.,  60.,  24., ..., 133., 147., 161.], dtype=float32),\n",
              " array([121.,  83.,  72., ..., 132., 123., 119.], dtype=float32),\n",
              " array([ 58.,  59.,  62., ..., 151., 150., 151.], dtype=float32),\n",
              " array([76., 78., 85., ..., 40., 34., 33.], dtype=float32),\n",
              " array([171.,  36.,  16., ..., 237., 237., 237.], dtype=float32),\n",
              " array([ 80.,  77.,  77., ..., 198., 178., 197.], dtype=float32),\n",
              " array([245., 245., 249., ..., 225., 230., 224.], dtype=float32),\n",
              " array([255., 255., 255., ..., 188., 183., 172.], dtype=float32),\n",
              " array([121., 120., 122., ..., 199., 197., 146.], dtype=float32),\n",
              " array([ 22.,  26.,  29., ..., 200., 206., 209.], dtype=float32),\n",
              " array([ 4.,  3.,  3., ..., 10., 40., 83.], dtype=float32),\n",
              " array([255., 255., 248., ..., 254., 254., 255.], dtype=float32),\n",
              " array([255., 254., 255., ..., 202., 218., 207.], dtype=float32),\n",
              " array([164.,  49.,  34., ...,  15.,  26.,  32.], dtype=float32),\n",
              " array([28., 32., 39., ..., 46., 52., 47.], dtype=float32),\n",
              " array([ 5., 41., 19., ..., 70., 76., 86.], dtype=float32),\n",
              " array([13., 12., 17., ...,  2.,  1.,  2.], dtype=float32),\n",
              " array([63., 68., 87., ..., 41., 26., 48.], dtype=float32),\n",
              " array([106., 105., 106., ...,  31.,  26.,  21.], dtype=float32),\n",
              " array([200., 199., 199., ..., 109., 127., 128.], dtype=float32),\n",
              " array([229., 151.,  60., ...,  45.,  41.,  46.], dtype=float32),\n",
              " array([159., 152., 184., ...,  83.,  84.,  84.], dtype=float32),\n",
              " array([136., 137., 145., ..., 199., 195., 188.], dtype=float32),\n",
              " array([174., 173., 171., ...,  34.,  57.,  68.], dtype=float32),\n",
              " array([246., 246., 247., ...,  24.,  17.,  16.], dtype=float32),\n",
              " array([238.,  69.,  24., ..., 146., 204., 174.], dtype=float32),\n",
              " array([218., 205., 206., ...,  14.,  17.,  23.], dtype=float32),\n",
              " array([54., 65., 64., ..., 46., 45., 56.], dtype=float32),\n",
              " array([104.,  99.,  92., ...,   9.,  70., 114.], dtype=float32),\n",
              " array([254., 253., 254., ..., 255., 255., 255.], dtype=float32),\n",
              " array([52., 46., 44., ...,  0.,  2.,  2.], dtype=float32),\n",
              " array([116.,  91.,  89., ..., 183., 188., 194.], dtype=float32),\n",
              " array([181., 180., 182., ..., 147., 148., 141.], dtype=float32),\n",
              " array([128., 129., 130., ..., 100., 111.,  92.], dtype=float32),\n",
              " array([143., 112.,  95., ..., 122., 119., 117.], dtype=float32),\n",
              " array([162., 175., 194., ...,   7.,  54.,  55.], dtype=float32),\n",
              " array([ 37.,  46.,  56., ..., 114., 133.,  53.], dtype=float32),\n",
              " array([239., 176., 156., ...,  13.,  11.,  11.], dtype=float32),\n",
              " array([142., 144., 143., ..., 135., 127., 120.], dtype=float32),\n",
              " array([177., 178., 180., ...,   5.,   6., 107.], dtype=float32),\n",
              " array([235., 237., 251., ..., 230., 195., 127.], dtype=float32),\n",
              " array([ 20.,  22.,  18., ..., 162., 164., 165.], dtype=float32),\n",
              " array([184., 182., 180., ..., 187., 181., 179.], dtype=float32),\n",
              " array([94., 85., 94., ..., 61., 61., 57.], dtype=float32),\n",
              " array([ 26.,  25.,  26., ..., 162., 181., 230.], dtype=float32),\n",
              " array([ 93., 137., 143., ...,  74.,  63.,  53.], dtype=float32),\n",
              " array([106., 121., 172., ...,  56.,  50., 101.], dtype=float32),\n",
              " array([250., 255., 184., ..., 253., 254., 253.], dtype=float32),\n",
              " array([215., 217., 214., ...,  91., 254., 193.], dtype=float32),\n",
              " array([ 87.,  86.,  55., ..., 173., 175., 174.], dtype=float32),\n",
              " array([139., 140., 141., ..., 242., 240., 239.], dtype=float32),\n",
              " array([135., 105., 113., ...,  29.,  76.,  26.], dtype=float32),\n",
              " array([146., 151., 145., ...,   0.,   0.,   0.], dtype=float32),\n",
              " array([ 20.,  31.,  48., ..., 205., 199., 201.], dtype=float32),\n",
              " array([210.,  81.,  41., ..., 134., 100.,  58.], dtype=float32),\n",
              " array([ 92.,  98., 107., ...,  67.,  66.,  65.], dtype=float32),\n",
              " array([74., 57.,  6., ..., 21., 17., 22.], dtype=float32),\n",
              " array([252., 217.,  87., ...,  22.,  16.,  11.], dtype=float32),\n",
              " array([ 79.,  52.,  24., ..., 120., 121., 138.], dtype=float32),\n",
              " array([231., 146.,  82., ..., 162., 161., 171.], dtype=float32),\n",
              " array([90., 69., 73., ..., 48., 25., 34.], dtype=float32),\n",
              " array([  5.,   1.,  30., ..., 139., 151., 145.], dtype=float32),\n",
              " array([255., 244., 217., ...,   0.,  36., 248.], dtype=float32),\n",
              " array([255., 255., 255., ..., 194., 255., 254.], dtype=float32),\n",
              " array([200., 199., 199., ...,  42.,  41.,  43.], dtype=float32),\n",
              " array([250., 174.,  74., ...,  26.,  21., 113.], dtype=float32),\n",
              " array([190., 190., 189., ...,  73.,  72.,  73.], dtype=float32),\n",
              " array([209., 205., 225., ..., 212., 216., 219.], dtype=float32),\n",
              " array([252., 251., 251., ..., 118., 101.,  99.], dtype=float32),\n",
              " array([ 28.,  23.,  35., ..., 187., 186., 187.], dtype=float32),\n",
              " array([121., 159., 132., ...,  47.,  51.,  54.], dtype=float32),\n",
              " array([103., 100.,  85., ...,  54.,  26.,  38.], dtype=float32),\n",
              " array([91., 90., 90., ..., 29., 30., 26.], dtype=float32),\n",
              " array([255., 255., 214., ...,   8.,   8.,   8.], dtype=float32),\n",
              " array([ 69.,  84.,  99., ..., 221., 239., 248.], dtype=float32),\n",
              " array([215., 214., 225., ..., 231., 224., 224.], dtype=float32),\n",
              " array([ 65.,  58., 105., ..., 180.,  74.,  43.], dtype=float32),\n",
              " array([91., 94., 98., ..., 38., 38., 39.], dtype=float32),\n",
              " array([177., 171., 173., ..., 107.,  81.,  97.], dtype=float32),\n",
              " array([39., 33., 26., ..., 52., 48., 34.], dtype=float32),\n",
              " array([  0.,   0.,   0., ..., 245., 246., 244.], dtype=float32),\n",
              " array([89., 55., 24., ..., 23., 23., 18.], dtype=float32),\n",
              " array([160., 160., 159., ..., 118., 128., 135.], dtype=float32),\n",
              " array([48., 43., 36., ..., 50., 42., 37.], dtype=float32),\n",
              " array([  6.,   6.,   8., ..., 107., 106., 121.], dtype=float32),\n",
              " array([255., 254., 254., ...,  34.,  48., 116.], dtype=float32),\n",
              " array([ 43.,  56.,  54., ..., 231., 251., 251.], dtype=float32),\n",
              " array([24., 24., 24., ..., 63., 58., 59.], dtype=float32),\n",
              " array([ 63.,  62.,  44., ...,  66.,  90., 102.], dtype=float32),\n",
              " array([147., 151., 154., ...,  94.,  98.,  96.], dtype=float32),\n",
              " array([30., 32., 35., ..., 42., 39., 34.], dtype=float32),\n",
              " array([11.,  9., 14., ..., 24.,  7.,  7.], dtype=float32),\n",
              " array([238., 134.,   0., ...,   4.,   4.,   2.], dtype=float32),\n",
              " array([ 56.,  65.,  78., ..., 151., 153., 155.], dtype=float32),\n",
              " array([127., 139., 150., ...,  95., 113., 108.], dtype=float32),\n",
              " array([61., 68., 72., ..., 14., 14., 14.], dtype=float32),\n",
              " array([164., 155., 113., ...,  30.,  24.,   9.], dtype=float32),\n",
              " array([255., 255., 255., ..., 254., 255., 255.], dtype=float32),\n",
              " array([173., 180., 173., ...,  82.,  84.,  90.], dtype=float32),\n",
              " array([71., 53., 46., ..., 13., 15., 46.], dtype=float32),\n",
              " array([75., 79., 81., ..., 30., 27., 24.], dtype=float32),\n",
              " array([40., 40., 42., ..., 49., 53., 47.], dtype=float32),\n",
              " array([151., 172., 168., ..., 242., 232., 235.], dtype=float32),\n",
              " array([107., 104., 101., ...,  60.,  54.,  42.], dtype=float32),\n",
              " array([19., 17., 20., ..., 14., 13., 12.], dtype=float32),\n",
              " array([255., 255., 255., ...,  73.,  72.,  69.], dtype=float32),\n",
              " array([195., 165., 121., ..., 195., 200., 206.], dtype=float32),\n",
              " array([ 5.,  7.,  6., ..., 11.,  8.,  7.], dtype=float32),\n",
              " array([134.,  76.,  54., ..., 140., 141., 140.], dtype=float32),\n",
              " array([204., 195., 181., ..., 150., 156., 161.], dtype=float32),\n",
              " array([244., 244., 244., ...,  84., 104., 131.], dtype=float32),\n",
              " array([255., 254., 255., ...,  85.,  70.,  47.], dtype=float32),\n",
              " array([36., 40., 32., ..., 25., 27., 36.], dtype=float32),\n",
              " array([125., 125., 126., ..., 153., 152., 152.], dtype=float32),\n",
              " array([ 70.,  51.,  41., ..., 216., 214., 211.], dtype=float32),\n",
              " array([127., 127., 127., ...,   0.,   0.,   0.], dtype=float32),\n",
              " array([244., 245., 245., ..., 236., 233., 231.], dtype=float32),\n",
              " array([66., 20., 20., ..., 70., 51., 28.], dtype=float32),\n",
              " array([ 48.,  34.,  19., ..., 193., 163., 100.], dtype=float32),\n",
              " array([78., 89., 98., ..., 14., 21., 30.], dtype=float32),\n",
              " array([86., 88., 92., ..., 24., 24., 24.], dtype=float32),\n",
              " array([127., 133., 143., ..., 202., 206., 192.], dtype=float32),\n",
              " array([ 42.,  29.,  22., ..., 147., 141., 146.], dtype=float32),\n",
              " array([216., 216., 215., ..., 160., 108.,  58.], dtype=float32),\n",
              " array([45., 18.,  4., ..., 77., 54., 84.], dtype=float32),\n",
              " array([144., 191., 226., ..., 173., 176., 178.], dtype=float32),\n",
              " array([ 7.,  7.,  8., ..., 64., 62., 60.], dtype=float32),\n",
              " array([179., 164.,  80., ...,  43.,  70.,  71.], dtype=float32),\n",
              " array([242., 242., 242., ..., 249., 238., 241.], dtype=float32),\n",
              " array([237., 237., 238., ..., 243., 242., 240.], dtype=float32),\n",
              " array([ 91.,  95.,  97., ..., 109., 121., 145.], dtype=float32),\n",
              " array([ 78.,  33.,  41., ..., 255., 255., 255.], dtype=float32),\n",
              " array([ 24.,  18.,  38., ..., 219., 222., 212.], dtype=float32),\n",
              " array([169., 171., 171., ..., 184., 100.,  21.], dtype=float32),\n",
              " array([ 37.,  98., 165., ..., 209., 208., 206.], dtype=float32),\n",
              " array([ 66.,  90., 101., ..., 253., 253., 255.], dtype=float32),\n",
              " array([255., 255., 255., ..., 168., 171., 239.], dtype=float32),\n",
              " array([237., 237., 228., ...,  82.,  40.,  25.], dtype=float32),\n",
              " array([254., 254., 254., ..., 232., 226., 222.], dtype=float32),\n",
              " array([214., 214., 214., ..., 110., 118., 126.], dtype=float32),\n",
              " array([ 18.,  34.,  44., ..., 215., 240., 240.], dtype=float32),\n",
              " array([254., 254., 254., ...,  25.,  26.,  37.], dtype=float32),\n",
              " array([120., 142., 178., ..., 166., 205., 179.], dtype=float32),\n",
              " array([132., 120., 111., ...,  48.,  36.,  38.], dtype=float32),\n",
              " array([ 55.,  79., 143., ...,  24.,  18.,  16.], dtype=float32),\n",
              " array([255., 255., 255., ..., 246., 254., 255.], dtype=float32),\n",
              " array([255., 255., 255., ..., 221., 219., 235.], dtype=float32),\n",
              " array([102., 103., 104., ...,   3.,   4.,  15.], dtype=float32),\n",
              " array([ 11.,  15.,  17., ..., 127., 137., 140.], dtype=float32),\n",
              " array([180., 139., 102., ..., 204., 205., 235.], dtype=float32),\n",
              " array([237., 237., 236., ..., 249., 247., 248.], dtype=float32),\n",
              " array([200., 208., 185., ..., 128., 140., 119.], dtype=float32),\n",
              " array([87., 43., 28., ..., 43., 51., 50.], dtype=float32),\n",
              " array([200., 201., 203., ...,  60.,  60.,  68.], dtype=float32),\n",
              " array([14., 15., 13., ..., 27., 40., 56.], dtype=float32),\n",
              " array([125.,  66.,  47., ..., 198., 199., 199.], dtype=float32),\n",
              " array([ 97., 105., 137., ..., 158., 146., 134.], dtype=float32),\n",
              " array([209., 135., 117., ..., 253., 254., 254.], dtype=float32),\n",
              " array([ 24.,  20.,  17., ..., 166., 169., 168.], dtype=float32),\n",
              " array([33., 44., 39., ..., 52., 42., 54.], dtype=float32),\n",
              " array([196., 190., 179., ..., 152., 145., 130.], dtype=float32),\n",
              " array([128.,  87.,  59., ..., 213., 218., 218.], dtype=float32),\n",
              " array([98., 95., 88., ...,  5., 10., 35.], dtype=float32),\n",
              " array([100., 110., 102., ..., 119., 118., 117.], dtype=float32),\n",
              " array([ 71.,  84., 101., ..., 197., 197., 197.], dtype=float32),\n",
              " array([244., 225., 198., ..., 201., 204., 206.], dtype=float32),\n",
              " array([14., 11., 13., ..., 45., 46., 48.], dtype=float32),\n",
              " array([253., 252., 254., ...,  49.,  42.,  26.], dtype=float32),\n",
              " array([41., 27., 85., ..., 78., 66., 73.], dtype=float32),\n",
              " array([141.,  67.,  86., ..., 220., 220., 221.], dtype=float32),\n",
              " array([ 99.,  99., 100., ...,  89.,  89.,  89.], dtype=float32),\n",
              " array([78., 77., 80., ..., 18.,  7.,  2.], dtype=float32),\n",
              " array([ 52.,  43.,  27., ..., 148., 121., 147.], dtype=float32),\n",
              " array([255., 253., 255., ..., 238., 250., 249.], dtype=float32),\n",
              " array([145., 131.,  97., ..., 182., 153., 151.], dtype=float32),\n",
              " array([  9.,   9.,  10., ..., 184.,  55.,   9.], dtype=float32),\n",
              " array([ 60.,  60.,  60., ..., 110., 109., 108.], dtype=float32),\n",
              " array([ 55.,  53.,  61., ...,  69., 170., 120.], dtype=float32),\n",
              " array([216., 216., 215., ..., 231., 134.,  55.], dtype=float32),\n",
              " array([254., 255., 234., ..., 255., 255., 255.], dtype=float32),\n",
              " array([101., 176., 154., ..., 237., 221., 146.], dtype=float32),\n",
              " array([99., 57., 25., ..., 37., 50., 72.], dtype=float32),\n",
              " array([255., 255., 255., ..., 255., 254., 255.], dtype=float32),\n",
              " array([ 98., 121., 108., ...,  30.,  41.,  55.], dtype=float32),\n",
              " array([21., 24., 31., ..., 15., 15., 15.], dtype=float32),\n",
              " array([208., 203., 194., ..., 116., 127., 143.], dtype=float32),\n",
              " array([232., 230., 236., ...,  66.,  68.,  72.], dtype=float32),\n",
              " array([204., 213., 221., ..., 117.,  97.,  87.], dtype=float32),\n",
              " array([142., 158., 186., ...,  43.,  48.,  57.], dtype=float32),\n",
              " array([219., 221., 224., ..., 146., 133., 142.], dtype=float32),\n",
              " array([255., 255., 255., ..., 100., 137., 161.], dtype=float32),\n",
              " array([248., 248., 248., ..., 106.,  89.,  80.], dtype=float32),\n",
              " array([62., 58., 55., ..., 37., 32., 38.], dtype=float32),\n",
              " array([132., 139., 144., ..., 124., 118., 135.], dtype=float32),\n",
              " array([95., 86., 70., ...,  9., 11., 27.], dtype=float32),\n",
              " array([ 87.,  70.,  59., ...,  28., 139., 252.], dtype=float32),\n",
              " array([59., 59., 55., ..., 39., 38., 39.], dtype=float32),\n",
              " array([ 94.,  84.,  83., ...,  99., 111., 106.], dtype=float32),\n",
              " array([ 9., 14., 10., ...,  5.,  5.,  4.], dtype=float32),\n",
              " array([140., 138., 128., ...,  66.,  61.,  52.], dtype=float32),\n",
              " array([206., 140., 160., ..., 242., 241., 243.], dtype=float32),\n",
              " array([115., 141., 148., ...,  20.,  10.,  86.], dtype=float32),\n",
              " array([ 7., 14., 15., ..., 27., 26., 25.], dtype=float32),\n",
              " array([158.,  40.,  60., ..., 183., 187., 190.], dtype=float32),\n",
              " array([ 14.,  20.,  20., ..., 171., 173., 170.], dtype=float32),\n",
              " array([ 97., 102., 109., ...,  26.,  30.,  36.], dtype=float32),\n",
              " array([ 32.,  20.,  24., ..., 111., 110., 109.], dtype=float32),\n",
              " array([214., 185., 106., ...,  19.,  17.,  17.], dtype=float32),\n",
              " array([188., 157.,  83., ..., 215., 207., 189.], dtype=float32),\n",
              " array([244., 243., 255., ...,  37.,  47.,  55.], dtype=float32),\n",
              " array([106., 127., 162., ..., 255., 254., 252.], dtype=float32),\n",
              " array([156., 161., 166., ...,  52.,  50.,  52.], dtype=float32),\n",
              " array([243., 242., 243., ..., 245., 207., 157.], dtype=float32),\n",
              " array([141.,  67.,  54., ...,   2.,   2.,   5.], dtype=float32),\n",
              " array([ 55.,  48.,  44., ..., 139., 134., 137.], dtype=float32),\n",
              " array([250., 249., 243., ..., 197., 198., 197.], dtype=float32),\n",
              " array([191., 179., 148., ...,   0.,   1.,   1.], dtype=float32),\n",
              " array([158., 157., 158., ...,  89., 122., 102.], dtype=float32),\n",
              " array([ 28.,  14.,  16., ..., 191., 193., 190.], dtype=float32),\n",
              " array([253., 253., 253., ...,  34.,  32.,  20.], dtype=float32),\n",
              " array([ 9., 12., 34., ...,  7.,  4.,  9.], dtype=float32),\n",
              " array([121., 117., 114., ..., 169., 132., 134.], dtype=float32),\n",
              " array([182., 178., 180., ...,  74.,  74.,  73.], dtype=float32),\n",
              " array([163., 160., 135., ...,  23.,  23.,  22.], dtype=float32),\n",
              " array([107., 109., 109., ...,  32.,  27.,  73.], dtype=float32),\n",
              " array([30., 40., 42., ..., 95., 86., 75.], dtype=float32),\n",
              " array([ 18.,  25.,  49., ..., 158.,  84.,  14.], dtype=float32),\n",
              " array([234., 240., 229., ...,  27.,  32.,  33.], dtype=float32),\n",
              " array([ 11.,   3.,   4., ..., 255., 255., 255.], dtype=float32),\n",
              " array([40., 50., 62., ..., 13., 16., 26.], dtype=float32),\n",
              " array([187., 189., 195., ...,  10.,  24.,  52.], dtype=float32),\n",
              " array([ 12.,  12.,  14., ..., 141., 197., 238.], dtype=float32),\n",
              " array([11.,  1., 12., ...,  1.,  1.,  0.], dtype=float32),\n",
              " array([ 80.,  95., 114., ..., 255., 255., 255.], dtype=float32),\n",
              " array([222., 226., 217., ...,  78.,  79.,  79.], dtype=float32),\n",
              " array([28., 28., 27., ..., 32., 33., 33.], dtype=float32),\n",
              " array([132., 135., 169., ..., 233., 233., 233.], dtype=float32),\n",
              " array([ 59.,  45.,  58., ...,  94., 101., 103.], dtype=float32),\n",
              " array([255., 255., 253., ..., 255., 255., 255.], dtype=float32),\n",
              " array([ 12.,  17.,   3., ..., 200., 181., 173.], dtype=float32),\n",
              " array([178., 177., 182., ..., 182., 183., 184.], dtype=float32),\n",
              " array([34., 33., 31., ..., 44., 40., 39.], dtype=float32),\n",
              " array([101.,  90.,  86., ..., 159., 149., 182.], dtype=float32),\n",
              " array([193., 179., 181., ..., 174., 190., 192.], dtype=float32),\n",
              " array([255., 252., 255., ..., 177., 184., 122.], dtype=float32),\n",
              " array([0., 0., 0., ..., 0., 0., 1.], dtype=float32),\n",
              " array([108.,  83.,  84., ...,  91.,  80.,  85.], dtype=float32),\n",
              " array([132., 137., 138., ..., 104., 103., 104.], dtype=float32),\n",
              " array([115., 103.,  54., ...,  68.,  60.,  54.], dtype=float32),\n",
              " array([254., 254., 253., ..., 253., 254., 254.], dtype=float32),\n",
              " array([132., 147., 162., ..., 187., 186., 184.], dtype=float32),\n",
              " array([ 37.,  35.,  29., ...,  27.,   8., 171.], dtype=float32),\n",
              " array([128., 130., 132., ...,  55.,  57.,  58.], dtype=float32),\n",
              " array([195., 192., 191., ..., 109.,  65.,  24.], dtype=float32),\n",
              " array([174., 102., 103., ..., 106., 108., 117.], dtype=float32),\n",
              " array([160., 160., 161., ..., 185., 185., 184.], dtype=float32),\n",
              " array([ 37.,  39.,  43., ..., 247., 250., 252.], dtype=float32),\n",
              " array([19., 38., 56., ..., 66., 49., 30.], dtype=float32),\n",
              " array([ 32.,  32.,  34., ..., 198., 197., 191.], dtype=float32),\n",
              " array([132., 133., 133., ...,   3.,   2.,   1.], dtype=float32),\n",
              " array([ 87.,  44.,  17., ..., 152., 192., 206.], dtype=float32),\n",
              " array([255., 254., 252., ..., 183., 181., 176.], dtype=float32),\n",
              " array([10.,  7.,  3., ..., 72., 69., 68.], dtype=float32),\n",
              " array([222., 222., 221., ...,  72.,  67.,  59.], dtype=float32),\n",
              " array([170., 170., 171., ..., 186., 180., 164.], dtype=float32),\n",
              " array([11., 11., 12., ..., 37., 22., 32.], dtype=float32),\n",
              " array([ 49.,  53.,  44., ..., 252., 248., 249.], dtype=float32),\n",
              " array([47., 52., 56., ..., 72., 74., 73.], dtype=float32),\n",
              " array([136., 139., 146., ..., 121., 123., 124.], dtype=float32),\n",
              " array([145., 177., 201., ..., 179., 179., 177.], dtype=float32),\n",
              " array([30., 41., 42., ..., 10.,  9.,  8.], dtype=float32),\n",
              " array([116., 106., 100., ..., 102., 102., 103.], dtype=float32),\n",
              " array([255., 224., 185., ...,  14.,  14.,  13.], dtype=float32),\n",
              " array([148., 148., 148., ..., 101.,  99.,  97.], dtype=float32),\n",
              " array([ 73.,  69.,  73., ..., 126., 131., 141.], dtype=float32),\n",
              " array([155., 160., 167., ...,  69.,  69.,  32.], dtype=float32),\n",
              " array([255., 255., 251., ..., 255., 255., 255.], dtype=float32),\n",
              " array([201., 205., 200., ..., 158., 158., 164.], dtype=float32),\n",
              " array([247., 247., 248., ...,  22.,  12.,   1.], dtype=float32),\n",
              " array([236., 236., 236., ..., 121., 125., 122.], dtype=float32),\n",
              " array([41., 41., 43., ..., 26., 28., 28.], dtype=float32),\n",
              " array([26., 23., 16., ...,  3.,  1.,  1.], dtype=float32),\n",
              " array([241., 239., 160., ...,  64.,  95., 111.], dtype=float32),\n",
              " array([111., 129., 115., ..., 252., 255., 233.], dtype=float32),\n",
              " array([ 46.,  49.,  47., ..., 106.,  80., 101.], dtype=float32),\n",
              " array([14., 19., 19., ..., 50., 50., 49.], dtype=float32),\n",
              " array([150.,  47., 139., ..., 138., 145., 148.], dtype=float32),\n",
              " array([114., 133., 129., ..., 216., 156.,  59.], dtype=float32),\n",
              " array([33., 29., 26., ..., 66., 46., 65.], dtype=float32),\n",
              " array([241., 240., 240., ..., 253., 246., 239.], dtype=float32),\n",
              " array([141., 127.,  98., ...,  62.,  74.,  83.], dtype=float32),\n",
              " array([16., 16., 15., ..., 32., 31., 31.], dtype=float32),\n",
              " array([255., 255., 255., ...,  50., 152., 240.], dtype=float32),\n",
              " array([ 44.,  54.,  79., ..., 240., 240., 240.], dtype=float32),\n",
              " array([26.,  7.,  5., ..., 92., 93., 95.], dtype=float32),\n",
              " array([ 57.,  69.,  82., ..., 181., 177., 172.], dtype=float32),\n",
              " array([213., 214., 212., ..., 180., 178., 177.], dtype=float32),\n",
              " array([59., 59., 53., ..., 37., 39., 39.], dtype=float32),\n",
              " array([255., 172.,   7., ...,  47.,  46.,  38.], dtype=float32),\n",
              " array([152.,  82.,  86., ..., 161., 161., 151.], dtype=float32),\n",
              " array([11., 12., 11., ...,  3.,  3.,  5.], dtype=float32),\n",
              " array([ 14.,  12.,  12., ..., 254., 254., 255.], dtype=float32),\n",
              " array([97., 98., 86., ..., 17., 25., 30.], dtype=float32),\n",
              " array([ 18.,  14.,   5., ..., 188., 183., 188.], dtype=float32),\n",
              " array([155., 154., 151., ..., 121., 138., 150.], dtype=float32),\n",
              " array([185., 183., 187., ..., 194., 186., 152.], dtype=float32),\n",
              " array([51., 50., 47., ..., 69., 70., 70.], dtype=float32),\n",
              " array([32., 34., 33., ..., 76., 70., 86.], dtype=float32),\n",
              " array([54., 58., 86., ..., 25., 34., 37.], dtype=float32),\n",
              " array([  6.,   6.,   6., ...,  12.,  34., 108.], dtype=float32),\n",
              " array([76., 77., 22., ..., 11., 11., 11.], dtype=float32),\n",
              " array([239., 239., 238., ..., 172., 178., 175.], dtype=float32),\n",
              " array([ 34.,  29.,  27., ..., 162., 165., 173.], dtype=float32),\n",
              " array([  0.,   1.,   2., ..., 162., 155., 158.], dtype=float32),\n",
              " array([156.,  99.,  75., ..., 252., 253., 253.], dtype=float32),\n",
              " array([ 58., 143., 188., ..., 172., 145., 169.], dtype=float32),\n",
              " array([57., 58., 56., ...,  0.,  0.,  0.], dtype=float32),\n",
              " array([197., 199., 198., ...,  51.,  54.,  58.], dtype=float32),\n",
              " array([ 99., 103., 105., ..., 141., 138., 140.], dtype=float32),\n",
              " array([188., 200., 155., ...,  91., 174., 170.], dtype=float32),\n",
              " array([196., 203., 206., ..., 236., 241., 241.], dtype=float32),\n",
              " array([ 26.,  27.,  27., ..., 107., 117.,  90.], dtype=float32),\n",
              " array([219., 129.,  40., ...,  53.,  73.,  86.], dtype=float32),\n",
              " array([ 4.,  0.,  0., ..., 30., 30., 31.], dtype=float32),\n",
              " array([172., 182., 193., ..., 169., 168., 153.], dtype=float32),\n",
              " array([253., 255., 183., ..., 254., 255., 255.], dtype=float32),\n",
              " array([ 93.,  93.,  93., ..., 161., 160., 163.], dtype=float32),\n",
              " array([ 9., 10., 13., ..., 31., 38., 57.], dtype=float32),\n",
              " array([210., 188., 191., ...,  24.,  26.,  24.], dtype=float32),\n",
              " array([159., 159., 145., ..., 140., 147., 127.], dtype=float32),\n",
              " array([ 41.,  52.,  66., ..., 102.,  81.,  77.], dtype=float32),\n",
              " array([168., 171., 174., ..., 232., 235., 239.], dtype=float32),\n",
              " array([177., 172., 155., ...,  58.,  52.,  53.], dtype=float32),\n",
              " array([123., 109., 128., ...,   6.,   6.,   2.], dtype=float32),\n",
              " array([252., 252., 252., ..., 252., 252., 252.], dtype=float32),\n",
              " array([ 66.,  66.,  67., ..., 155., 150., 138.], dtype=float32),\n",
              " array([ 72.,  18.,  16., ...,   1.,  52., 122.], dtype=float32),\n",
              " array([127., 128.,  57., ..., 101., 102., 104.], dtype=float32),\n",
              " array([241., 240., 241., ..., 208., 211., 212.], dtype=float32),\n",
              " array([255., 255., 255., ..., 251., 251., 251.], dtype=float32),\n",
              " array([ 15.,  20.,  28., ..., 142., 150., 157.], dtype=float32),\n",
              " array([204., 211., 206., ..., 111., 109., 110.], dtype=float32),\n",
              " array([164., 165., 133., ...,  18.,  23.,  38.], dtype=float32),\n",
              " array([ 42.,  32.,  21., ..., 128., 136., 139.], dtype=float32),\n",
              " array([ 72.,  77.,  86., ..., 108., 130., 138.], dtype=float32),\n",
              " array([ 73.,  58.,  70., ..., 186., 218., 238.], dtype=float32),\n",
              " array([ 46.,  48.,  49., ..., 132., 111.,  36.], dtype=float32),\n",
              " array([16., 13.,  5., ..., 23., 33., 31.], dtype=float32),\n",
              " array([ 5.,  7., 30., ...,  7.,  9., 11.], dtype=float32),\n",
              " array([230., 232., 235., ..., 130., 247., 254.], dtype=float32),\n",
              " array([115., 101.,  46., ..., 211., 219., 224.], dtype=float32),\n",
              " array([255., 255., 255., ..., 151., 166., 134.], dtype=float32),\n",
              " array([ 65.,  75.,  86., ..., 134., 133., 134.], dtype=float32),\n",
              " array([95., 95., 97., ..., 23., 29., 12.], dtype=float32),\n",
              " array([42., 43., 46., ..., 21., 19., 19.], dtype=float32),\n",
              " array([107.,  86.,  67., ..., 137., 134., 157.], dtype=float32),\n",
              " array([255., 118.,  45., ...,  13.,  13.,  26.], dtype=float32),\n",
              " array([156., 156., 154., ...,  25.,  21.,  27.], dtype=float32),\n",
              " array([ 78.,  78.,  79., ..., 235., 250., 251.], dtype=float32),\n",
              " array([188., 214., 218., ..., 226., 225., 225.], dtype=float32),\n",
              " array([ 1.,  0.,  0., ..., 66., 48., 43.], dtype=float32),\n",
              " array([119., 159., 204., ...,  25.,  23.,  19.], dtype=float32),\n",
              " array([ 32.,  29.,  25., ..., 113.,  99.,  66.], dtype=float32),\n",
              " array([137., 144., 149., ..., 114., 176., 179.], dtype=float32),\n",
              " array([179., 168., 159., ..., 120., 114., 106.], dtype=float32),\n",
              " array([ 46.,  39.,  32., ...,  95., 116., 144.], dtype=float32),\n",
              " array([ 2.,  2.,  2., ..., 38., 34., 30.], dtype=float32),\n",
              " array([ 28.,  29.,  33., ..., 105.,  96.,  81.], dtype=float32),\n",
              " array([255., 255., 255., ..., 255., 255., 255.], dtype=float32),\n",
              " array([ 2.,  0.,  0., ..., 25.,  5.,  1.], dtype=float32),\n",
              " array([103.,  94.,  88., ...,  48.,  46.,  48.], dtype=float32),\n",
              " array([106., 107., 107., ...,   0.,   0.,   0.], dtype=float32),\n",
              " array([67., 58., 51., ..., 36., 36., 36.], dtype=float32),\n",
              " array([ 59.,   7.,  13., ..., 218., 215., 204.], dtype=float32),\n",
              " array([125.,  98.,  60., ...,  70.,  38.,  14.], dtype=float32),\n",
              " array([22., 21., 20., ..., 63., 63., 62.], dtype=float32),\n",
              " array([15., 13., 12., ..., 83., 85., 62.], dtype=float32),\n",
              " array([ 54., 130., 141., ..., 251., 243., 222.], dtype=float32),\n",
              " array([74., 40., 15., ..., 61., 68., 89.], dtype=float32),\n",
              " array([216., 209., 208., ..., 141., 117., 124.], dtype=float32),\n",
              " array([ 19.,  25.,  32., ..., 252., 111.,  55.], dtype=float32),\n",
              " array([ 37.,  28.,  22., ..., 210., 192., 216.], dtype=float32),\n",
              " array([198., 210., 210., ..., 183., 191., 193.], dtype=float32),\n",
              " array([63., 91., 66., ..., 15., 15., 12.], dtype=float32),\n",
              " array([135., 135., 135., ...,  43.,  43.,  43.], dtype=float32),\n",
              " array([188., 180., 181., ...,  37.,  40.,  40.], dtype=float32),\n",
              " array([225., 224., 227., ..., 204., 207., 209.], dtype=float32),\n",
              " array([211., 211., 211., ..., 181., 173., 159.], dtype=float32),\n",
              " array([ 60.,  36.,  62., ..., 118., 103., 106.], dtype=float32),\n",
              " array([61., 63., 62., ..., 13., 11., 11.], dtype=float32),\n",
              " array([196., 201., 195., ..., 235., 244., 245.], dtype=float32),\n",
              " array([166., 143.,  60., ..., 114., 126., 123.], dtype=float32),\n",
              " array([ 86., 123., 165., ...,  92., 105., 100.], dtype=float32),\n",
              " array([67., 66., 68., ..., 67., 67., 67.], dtype=float32),\n",
              " array([221., 222., 219., ..., 163., 182., 141.], dtype=float32),\n",
              " array([255., 255., 255., ..., 190., 207., 207.], dtype=float32),\n",
              " array([25., 50., 47., ..., 74., 68., 58.], dtype=float32),\n",
              " array([225., 224., 216., ..., 145., 142., 141.], dtype=float32),\n",
              " array([31., 32., 39., ..., 39., 40., 39.], dtype=float32),\n",
              " array([143., 144., 146., ..., 116., 105.,  98.], dtype=float32),\n",
              " array([ 70.,  49.,  35., ..., 118., 122., 124.], dtype=float32),\n",
              " array([ 76.,  58.,  97., ..., 252., 255., 254.], dtype=float32),\n",
              " array([206., 209., 210., ...,  14.,  16.,  28.], dtype=float32),\n",
              " array([255., 255., 255., ..., 255., 255., 255.], dtype=float32),\n",
              " array([ 39.,  40.,  79., ..., 238., 241., 230.], dtype=float32),\n",
              " array([114.,  95.,  82., ..., 233., 236., 235.], dtype=float32),\n",
              " array([200., 227., 235., ...,  41.,  39.,  14.], dtype=float32),\n",
              " array([ 85.,  85.,  86., ...,  87., 162., 124.], dtype=float32),\n",
              " array([ 1.,  1.,  6., ..., 23., 21., 23.], dtype=float32),\n",
              " array([223., 249., 236., ..., 161., 137., 124.], dtype=float32),\n",
              " array([21., 20., 26., ..., 70., 71., 72.], dtype=float32),\n",
              " array([114.,  95.,  82., ..., 233., 236., 235.], dtype=float32),\n",
              " array([43., 87., 54., ..., 58., 73., 91.], dtype=float32),\n",
              " array([184., 183., 183., ...,  12.,  16.,  22.], dtype=float32),\n",
              " array([118.,  88.,  63., ...,  56.,  49.,  61.], dtype=float32),\n",
              " array([105., 100., 100., ...,  45.,  82., 119.], dtype=float32),\n",
              " array([198., 192., 186., ..., 186., 164.,  74.], dtype=float32),\n",
              " array([ 74.,  77.,  93., ..., 234., 233., 230.], dtype=float32),\n",
              " array([33., 47., 41., ..., 20., 14., 15.], dtype=float32),\n",
              " array([126., 126., 140., ..., 214., 212., 211.], dtype=float32),\n",
              " array([138., 127.,  91., ..., 234., 236., 226.], dtype=float32),\n",
              " array([ 21.,  37., 104., ..., 137., 143., 151.], dtype=float32),\n",
              " array([141., 148., 158., ..., 194., 196., 197.], dtype=float32),\n",
              " array([ 90.,  95., 102., ..., 148., 138., 147.], dtype=float32),\n",
              " array([ 47.,  47.,  47., ..., 196., 193., 182.], dtype=float32),\n",
              " array([ 16.,  13.,  14., ..., 113., 112., 113.], dtype=float32),\n",
              " array([18., 19., 22., ..., 49., 31., 24.], dtype=float32),\n",
              " array([ 94.,  78.,  80., ..., 180., 185., 165.], dtype=float32),\n",
              " array([254., 255., 232., ..., 254., 254., 254.], dtype=float32),\n",
              " array([83., 68., 90., ..., 13., 14., 13.], dtype=float32),\n",
              " array([255., 255., 255., ..., 254., 254., 253.], dtype=float32),\n",
              " array([205., 205., 205., ..., 206., 208., 208.], dtype=float32),\n",
              " array([48., 49., 89., ..., 17., 29., 27.], dtype=float32),\n",
              " array([ 42.,  31.,  57., ...,  41.,  63., 173.], dtype=float32),\n",
              " array([ 56.,  68.,  59., ..., 161., 161., 162.], dtype=float32),\n",
              " array([123.,  81.,  68., ..., 255., 255., 255.], dtype=float32),\n",
              " array([  2.,  30., 187., ..., 180., 177., 167.], dtype=float32),\n",
              " array([  6.,   6.,  31., ...,  73., 108., 133.], dtype=float32),\n",
              " array([165., 167., 171., ..., 195., 205.,  73.], dtype=float32),\n",
              " array([118., 106., 105., ..., 202., 197., 193.], dtype=float32),\n",
              " array([ 9., 24., 63., ...,  8.,  9., 10.], dtype=float32),\n",
              " array([110., 143., 145., ...,  83.,  72.,  54.], dtype=float32),\n",
              " array([179., 169., 180., ..., 161., 178., 175.], dtype=float32),\n",
              " array([ 67.,  66.,  63., ...,  83., 117., 167.], dtype=float32),\n",
              " array([255., 255., 254., ..., 255., 255., 255.], dtype=float32),\n",
              " array([ 60.,  60.,  76., ..., 115., 154., 179.], dtype=float32),\n",
              " array([206., 207., 211., ...,  99.,  94.,  98.], dtype=float32),\n",
              " array([ 94., 100.,  95., ..., 109., 109., 108.], dtype=float32),\n",
              " array([254., 255., 213., ...,  85., 109., 127.], dtype=float32),\n",
              " array([  6.,   8.,  18., ..., 133.,  67.,  62.], dtype=float32),\n",
              " array([254., 253., 255., ..., 186., 171., 170.], dtype=float32),\n",
              " array([  0.,   0.,   0., ..., 184., 182., 184.], dtype=float32),\n",
              " array([84., 94., 86., ..., 26., 24., 24.], dtype=float32),\n",
              " array([206., 160., 230., ..., 141., 147., 140.], dtype=float32),\n",
              " array([109.,  86.,  87., ..., 101., 103., 107.], dtype=float32),\n",
              " array([ 87.,  87.,  87., ..., 193., 190., 171.], dtype=float32),\n",
              " array([250., 158.,  30., ..., 102.,  83.,  78.], dtype=float32),\n",
              " array([ 72.,  73.,  71., ...,  19.,  30., 159.], dtype=float32),\n",
              " array([181., 166., 170., ..., 214., 139., 112.], dtype=float32),\n",
              " array([149., 146., 145., ..., 148., 148., 148.], dtype=float32),\n",
              " array([247., 244., 242., ...,  39.,  43.,  46.], dtype=float32),\n",
              " array([255., 228., 202., ..., 154., 160., 154.], dtype=float32),\n",
              " array([255., 223.,  83., ..., 189., 182., 178.], dtype=float32),\n",
              " array([111., 117., 112., ...,  27.,  24.,  24.], dtype=float32),\n",
              " array([45., 55., 58., ..., 76., 75., 84.], dtype=float32),\n",
              " array([ 26.,  23.,  19., ..., 128., 163., 162.], dtype=float32),\n",
              " array([216., 216., 213., ...,  16.,  15.,  17.], dtype=float32),\n",
              " array([252., 252., 251., ...,  81.,  71.,  60.], dtype=float32),\n",
              " array([212., 217., 191., ...,  64., 128.,  72.], dtype=float32),\n",
              " array([ 0.,  0., 24., ..., 30.,  5.,  0.], dtype=float32),\n",
              " array([134.,  34.,  41., ..., 165., 179., 214.], dtype=float32),\n",
              " array([98., 89., 95., ..., 98., 58., 53.], dtype=float32),\n",
              " array([121., 138., 118., ..., 113., 133., 147.], dtype=float32),\n",
              " array([15., 31., 21., ..., 53., 57., 52.], dtype=float32),\n",
              " array([144., 178., 152., ..., 210., 214., 217.], dtype=float32),\n",
              " array([36., 12., 11., ..., 47., 44., 42.], dtype=float32),\n",
              " array([18., 18., 16., ..., 45., 44., 47.], dtype=float32),\n",
              " array([ 95., 131., 101., ..., 234., 233., 234.], dtype=float32),\n",
              " array([186., 193., 201., ..., 146., 147., 146.], dtype=float32),\n",
              " array([138., 106., 109., ..., 211., 209., 209.], dtype=float32),\n",
              " array([ 66.,  82., 194., ...,  40.,  36.,  34.], dtype=float32),\n",
              " array([ 3.,  4.,  7., ..., 55., 47., 42.], dtype=float32),\n",
              " array([26., 26., 27., ...,  5., 28., 39.], dtype=float32),\n",
              " array([51., 61., 70., ..., 37., 44., 52.], dtype=float32),\n",
              " array([105., 121., 134., ...,   5.,  82., 141.], dtype=float32),\n",
              " array([ 89.,  89.,  88., ..., 163., 159., 150.], dtype=float32),\n",
              " array([ 50.,  46.,  44., ..., 133., 134., 134.], dtype=float32),\n",
              " array([ 95.,  82.,  71., ..., 103., 107.,  98.], dtype=float32),\n",
              " array([205., 233., 235., ..., 112., 118., 116.], dtype=float32),\n",
              " array([ 24.,  36.,  34., ...,  93., 179., 213.], dtype=float32),\n",
              " array([ 73.,  74.,  73., ..., 121., 134., 147.], dtype=float32),\n",
              " array([ 42.,  49.,  51., ..., 230., 235., 244.], dtype=float32),\n",
              " array([255., 255., 255., ...,  66.,  59.,  56.], dtype=float32),\n",
              " array([ 34.,  45.,  34., ..., 141., 138., 137.], dtype=float32),\n",
              " array([200., 206., 183., ..., 189., 202., 206.], dtype=float32),\n",
              " array([125., 112., 119., ..., 204., 220., 228.], dtype=float32),\n",
              " array([158., 156.,  51., ..., 156.,  63., 197.], dtype=float32),\n",
              " array([99., 87., 55., ..., 52., 44., 59.], dtype=float32),\n",
              " array([252., 205.,  35., ...,   3.,   2.,   0.], dtype=float32),\n",
              " array([233., 216., 180., ..., 221., 221., 221.], dtype=float32),\n",
              " array([ 12.,  12.,  12., ..., 187., 172., 112.], dtype=float32),\n",
              " array([239., 239., 239., ..., 127., 119., 110.], dtype=float32),\n",
              " array([ 99.,  63.,  88., ..., 192.,  51.,  54.], dtype=float32),\n",
              " array([177., 173.,  38., ...,  41.,  72., 159.], dtype=float32),\n",
              " array([ 10.,  10.,  10., ..., 252., 254., 254.], dtype=float32),\n",
              " array([254., 254., 255., ..., 138., 126., 118.], dtype=float32),\n",
              " array([147., 130., 132., ..., 252., 252., 252.], dtype=float32),\n",
              " array([244., 197., 126., ..., 243., 207., 159.], dtype=float32),\n",
              " array([114., 113., 111., ...,  41.,  54.,  82.], dtype=float32),\n",
              " array([254., 254., 254., ...,   3.,  31.,  51.], dtype=float32),\n",
              " array([228., 229., 229., ..., 189., 210., 232.], dtype=float32),\n",
              " array([ 30.,  31.,  30., ..., 250., 254., 245.], dtype=float32),\n",
              " array([ 24.,  24.,  22., ..., 151., 139., 113.], dtype=float32),\n",
              " array([ 0.,  0.,  0., ..., 36., 36., 36.], dtype=float32),\n",
              " array([  1.,   0.,   3., ..., 234., 238., 242.], dtype=float32),\n",
              " array([110.,  19.,   0., ...,   9.,   1.,  25.], dtype=float32),\n",
              " array([255., 255., 255., ...,  17., 222., 223.], dtype=float32),\n",
              " array([ 44.,  36.,  30., ..., 180., 179., 178.], dtype=float32),\n",
              " array([114.,  84.,  66., ..., 144., 168., 185.], dtype=float32),\n",
              " array([252., 233., 147., ..., 255., 253., 255.], dtype=float32),\n",
              " array([228., 228., 228., ..., 249., 249., 249.], dtype=float32),\n",
              " array([168., 173., 177., ...,   0.,   1.,   1.], dtype=float32),\n",
              " array([18., 11., 10., ..., 36., 36., 35.], dtype=float32),\n",
              " array([206., 206., 147., ...,  87.,  67.,  84.], dtype=float32),\n",
              " array([ 3.,  6., 14., ...,  7.,  8.,  7.], dtype=float32),\n",
              " array([255., 255., 254., ...,  31.,  18., 151.], dtype=float32),\n",
              " array([183., 185., 185., ..., 138., 165., 153.], dtype=float32),\n",
              " array([ 82.,  64.,  61., ..., 204., 225., 183.], dtype=float32),\n",
              " array([160., 172., 158., ..., 162., 168., 172.], dtype=float32),\n",
              " array([ 65.,  35.,  52., ..., 100., 115., 127.], dtype=float32),\n",
              " array([28., 12., 10., ..., 67., 69., 10.], dtype=float32),\n",
              " array([ 35.,  40.,  38., ..., 174., 190., 191.], dtype=float32),\n",
              " array([143., 150., 161., ...,  97.,  88.,  71.], dtype=float32),\n",
              " array([187., 196., 200., ...,  51.,  34.,  20.], dtype=float32),\n",
              " array([28., 25., 20., ..., 12., 12., 12.], dtype=float32),\n",
              " array([242., 232., 193., ..., 142.,  98.,  35.], dtype=float32),\n",
              " array([197., 200., 205., ..., 151., 137., 126.], dtype=float32),\n",
              " array([112., 112., 123., ..., 112.,  99.,  79.], dtype=float32),\n",
              " array([112.,  42.,  38., ...,  51.,  42.,  63.], dtype=float32),\n",
              " array([135., 138., 124., ..., 108., 106., 103.], dtype=float32),\n",
              " array([196., 191., 183., ..., 125., 132., 134.], dtype=float32),\n",
              " array([66., 58., 49., ..., 12., 11., 12.], dtype=float32),\n",
              " array([177., 133.,  63., ...,  38.,  17.,  23.], dtype=float32),\n",
              " array([124., 121., 142., ...,   2.,   3.,   3.], dtype=float32),\n",
              " array([ 1.,  1.,  1., ..., 68., 50.,  4.], dtype=float32),\n",
              " array([175., 176., 175., ..., 157., 165., 153.], dtype=float32),\n",
              " array([245., 245., 245., ...,  83.,  64.,  46.], dtype=float32),\n",
              " array([4., 5., 5., ..., 4., 0., 7.], dtype=float32),\n",
              " array([249., 247., 246., ...,  94., 120., 106.], dtype=float32),\n",
              " array([250., 250., 250., ...,  60., 181., 255.], dtype=float32),\n",
              " array([109.,  79.,  62., ...,  23.,  23.,  23.], dtype=float32),\n",
              " array([214.,  18.,   0., ...,   2.,   0.,  15.], dtype=float32),\n",
              " array([163., 197., 193., ...,  89.,  86.,  72.], dtype=float32),\n",
              " array([254., 228., 216., ..., 190., 218., 224.], dtype=float32),\n",
              " array([136., 136., 136., ..., 131., 125., 120.], dtype=float32),\n",
              " array([192., 191., 189., ...,   8.,   2.,   4.], dtype=float32),\n",
              " array([145., 145., 142., ..., 180., 135.,  66.], dtype=float32),\n",
              " array([  7.,  13.,  20., ..., 167., 183., 215.], dtype=float32),\n",
              " array([254., 252., 210., ..., 255., 255., 255.], dtype=float32),\n",
              " array([144., 147., 153., ..., 186., 187., 188.], dtype=float32),\n",
              " array([188., 188., 187., ...,  15.,  20.,  19.], dtype=float32),\n",
              " array([209., 206., 187., ..., 144., 197., 200.], dtype=float32),\n",
              " array([64., 73., 56., ..., 41., 42., 42.], dtype=float32),\n",
              " array([28., 27., 29., ..., 45., 51., 42.], dtype=float32),\n",
              " array([ 80.,  80.,  76., ...,  63., 116., 123.], dtype=float32),\n",
              " array([ 91., 108., 116., ..., 222., 213., 202.], dtype=float32),\n",
              " array([226., 224., 223., ..., 206., 198., 189.], dtype=float32),\n",
              " array([129., 127., 117., ..., 126., 126., 127.], dtype=float32),\n",
              " array([121., 128., 118., ...,  69.,  69.,  68.], dtype=float32),\n",
              " array([ 39.,  32.,  35., ..., 253., 253., 254.], dtype=float32),\n",
              " array([255., 255., 253., ..., 126., 120., 119.], dtype=float32),\n",
              " array([247., 247., 248., ..., 102., 105., 117.], dtype=float32),\n",
              " array([13., 11., 10., ..., 33., 24., 13.], dtype=float32),\n",
              " array([243., 243., 242., ...,  26.,  25.,  26.], dtype=float32),\n",
              " array([121., 122., 123., ..., 175., 185., 186.], dtype=float32),\n",
              " array([  4.,   8.,  11., ..., 205., 212., 218.], dtype=float32),\n",
              " array([124., 127., 131., ..., 226., 230., 219.], dtype=float32),\n",
              " array([134., 152., 162., ...,  33.,  58.,  50.], dtype=float32),\n",
              " array([52., 46., 47., ..., 23., 23., 23.], dtype=float32),\n",
              " array([169., 173., 165., ..., 145., 134., 125.], dtype=float32),\n",
              " array([222., 215., 145., ..., 178., 172., 192.], dtype=float32),\n",
              " array([178., 174., 169., ...,  89.,  84.,  79.], dtype=float32),\n",
              " array([  0.,   0.,   1., ..., 112., 128., 130.], dtype=float32),\n",
              " array([221., 159., 123., ..., 121., 125., 128.], dtype=float32),\n",
              " array([ 2.,  1.,  1., ..., 20., 21., 20.], dtype=float32),\n",
              " array([  1.,   6.,   9., ..., 193., 175., 168.], dtype=float32),\n",
              " array([254., 253., 252., ...,  34.,  50.,  62.], dtype=float32),\n",
              " array([141., 127., 107., ..., 113., 112., 106.], dtype=float32),\n",
              " array([167., 151., 126., ..., 188., 140., 111.], dtype=float32),\n",
              " array([ 88.,  40.,  40., ..., 131., 146., 134.], dtype=float32),\n",
              " array([ 88.,  92., 102., ..., 220., 222., 225.], dtype=float32),\n",
              " array([90., 86., 83., ..., 96., 63., 30.], dtype=float32),\n",
              " array([176., 173., 172., ..., 254., 255., 255.], dtype=float32),\n",
              " array([ 76.,  84.,  90., ..., 162., 203., 173.], dtype=float32),\n",
              " array([ 70.,  77.,  47., ..., 146., 148., 152.], dtype=float32),\n",
              " array([ 5.,  5.,  4., ..., 41., 38., 38.], dtype=float32),\n",
              " array([ 63.,  94., 130., ..., 248., 254., 178.], dtype=float32),\n",
              " array([254., 254., 233., ..., 225., 234., 230.], dtype=float32),\n",
              " array([131., 129., 103., ..., 108., 102.,  78.], dtype=float32),\n",
              " array([115., 109., 106., ...,  49.,  68.,  80.], dtype=float32),\n",
              " array([ 63.,  49.,  57., ..., 222., 255., 254.], dtype=float32),\n",
              " array([ 10.,  11.,  11., ..., 123., 140., 165.], dtype=float32),\n",
              " array([205., 204., 205., ..., 215., 213., 215.], dtype=float32),\n",
              " array([0., 0., 0., ..., 0., 0., 0.], dtype=float32),\n",
              " array([180., 181., 182., ..., 191., 191., 188.], dtype=float32),\n",
              " array([101., 105., 136., ..., 166., 176., 205.], dtype=float32),\n",
              " array([255., 255., 255., ..., 194., 197., 199.], dtype=float32),\n",
              " array([26., 14., 61., ..., 38., 47., 48.], dtype=float32),\n",
              " array([73., 65., 66., ..., 95., 95., 90.], dtype=float32),\n",
              " array([243., 243., 243., ..., 206., 199., 198.], dtype=float32),\n",
              " array([252., 253., 253., ..., 148., 150.,  72.], dtype=float32),\n",
              " array([166., 172., 153., ..., 114., 110.,  95.], dtype=float32),\n",
              " array([152., 138.,  83., ..., 141., 142., 144.], dtype=float32),\n",
              " array([ 95.,  93.,  89., ..., 245., 247., 173.], dtype=float32),\n",
              " array([136., 137., 130., ...,  36.,  57.,  61.], dtype=float32),\n",
              " array([121., 125., 130., ...,  80.,  81.,  93.], dtype=float32),\n",
              " array([133., 134., 134., ...,  19.,  19.,  19.], dtype=float32),\n",
              " array([132., 110., 103., ..., 141.,  70.,  60.], dtype=float32),\n",
              " array([ 1.,  5., 33., ..., 48., 46., 46.], dtype=float32),\n",
              " array([243., 239., 244., ...,  36.,  30.,  31.], dtype=float32),\n",
              " array([127.,  86.,  34., ...,  27.,  14.,  14.], dtype=float32),\n",
              " array([173., 184., 181., ..., 156., 162., 167.], dtype=float32),\n",
              " array([177.,  73., 104., ..., 255., 242., 243.], dtype=float32),\n",
              " array([ 48.,  93., 139., ..., 108., 113., 123.], dtype=float32),\n",
              " array([ 90.,  89.,  89., ..., 163., 205., 204.], dtype=float32),\n",
              " array([138., 186., 185., ..., 168., 163., 171.], dtype=float32),\n",
              " array([159., 159., 152., ..., 210., 216., 219.], dtype=float32),\n",
              " array([ 40.,  25.,  28., ..., 122., 134., 141.], dtype=float32),\n",
              " array([ 30.,  23.,  21., ..., 174., 175., 177.], dtype=float32),\n",
              " array([255., 255., 255., ...,  37.,  49.,  49.], dtype=float32),\n",
              " array([165., 167., 167., ..., 184., 216., 227.], dtype=float32),\n",
              " array([109., 148., 147., ..., 121., 126., 126.], dtype=float32),\n",
              " array([241., 241., 241., ...,  26.,  16.,  19.], dtype=float32),\n",
              " array([ 90., 112.,  45., ..., 206., 253., 252.], dtype=float32),\n",
              " array([167., 177., 183., ...,  48.,  59.,  56.], dtype=float32),\n",
              " array([215., 214., 205., ...,  83.,  86.,  86.], dtype=float32),\n",
              " array([183., 180., 170., ..., 145., 170., 158.], dtype=float32),\n",
              " array([247., 243., 251., ..., 248., 243., 247.], dtype=float32),\n",
              " array([243., 195.,  64., ...,  25.,  32.,  29.], dtype=float32),\n",
              " array([197., 199., 196., ..., 136., 137., 137.], dtype=float32),\n",
              " array([255., 254., 252., ..., 146., 148., 147.], dtype=float32),\n",
              " array([71., 73., 75., ..., 79., 73., 66.], dtype=float32),\n",
              " array([89., 87., 83., ..., 90., 73., 35.], dtype=float32),\n",
              " array([150., 164., 169., ...,  95.,  87., 101.], dtype=float32),\n",
              " array([ 40.,  46.,  54., ..., 176., 184., 185.], dtype=float32),\n",
              " array([143., 145., 145., ...,  40.,  38.,  37.], dtype=float32),\n",
              " array([255., 255., 248., ...,  37.,  32.,  31.], dtype=float32),\n",
              " array([ 36.,  23.,  21., ..., 219., 243., 245.], dtype=float32),\n",
              " array([185., 140., 124., ...,  99.,  95., 101.], dtype=float32),\n",
              " array([122., 125., 132., ...,  53.,  53.,  53.], dtype=float32),\n",
              " array([39., 42., 50., ..., 96., 80., 60.], dtype=float32),\n",
              " array([ 97., 127., 173., ...,   4.,   6.,   7.], dtype=float32),\n",
              " array([50., 43., 54., ..., 68., 70., 53.], dtype=float32),\n",
              " array([250., 246., 255., ..., 252., 252., 252.], dtype=float32),\n",
              " array([222., 226., 200., ...,  33.,  39.,  43.], dtype=float32),\n",
              " array([92., 79., 66., ..., 29., 45., 47.], dtype=float32),\n",
              " array([134., 148., 159., ...,  45.,  42.,  42.], dtype=float32),\n",
              " array([254., 249., 243., ...,  16.,  19.,  23.], dtype=float32),\n",
              " array([59., 67., 72., ..., 52., 51., 46.], dtype=float32),\n",
              " array([  9.,   7.,  10., ..., 166., 165., 165.], dtype=float32),\n",
              " array([ 4.,  4.,  4., ..., 13., 26., 15.], dtype=float32),\n",
              " array([12., 11., 11., ..., 46., 47., 47.], dtype=float32),\n",
              " array([63., 72., 61., ..., 15., 16., 14.], dtype=float32),\n",
              " array([118., 126., 127., ..., 146., 145., 146.], dtype=float32),\n",
              " array([215., 214., 216., ..., 120., 148., 202.], dtype=float32),\n",
              " array([159., 168., 132., ..., 141., 138., 133.], dtype=float32),\n",
              " array([115., 157., 161., ...,  25.,  22.,  21.], dtype=float32),\n",
              " array([247., 235., 225., ..., 219., 243., 255.], dtype=float32),\n",
              " array([2., 1., 1., ..., 1., 1., 1.], dtype=float32),\n",
              " array([173., 187., 189., ..., 183., 178., 196.], dtype=float32),\n",
              " array([52., 53., 54., ..., 96., 95., 94.], dtype=float32),\n",
              " array([215., 218., 220., ...,  26.,  30.,  18.], dtype=float32),\n",
              " array([147., 145., 146., ...,  29.,  30.,  31.], dtype=float32),\n",
              " array([224.,  90.,   0., ...,  24.,  31.,  32.], dtype=float32),\n",
              " array([235., 235., 232., ..., 234., 234., 234.], dtype=float32),\n",
              " array([ 11.,  10.,   7., ..., 184., 194., 206.], dtype=float32),\n",
              " array([ 82., 189., 217., ...,  40.,  40.,  42.], dtype=float32),\n",
              " array([ 5.,  4.,  4., ..., 12., 14., 17.], dtype=float32),\n",
              " array([ 93.,  75.,  74., ..., 129., 114., 109.], dtype=float32),\n",
              " array([143., 142., 141., ..., 131.,  79.,  16.], dtype=float32),\n",
              " array([194., 201., 199., ..., 209., 187., 144.], dtype=float32),\n",
              " array([ 90.,  87.,  73., ..., 142., 128., 167.], dtype=float32),\n",
              " array([ 79., 115., 124., ...,  59.,  58.,  64.], dtype=float32),\n",
              " array([178., 184., 183., ..., 157., 161., 163.], dtype=float32),\n",
              " array([196., 198., 195., ...,  94., 101.,  97.], dtype=float32),\n",
              " array([221., 220., 223., ...,  19.,  19.,  19.], dtype=float32),\n",
              " array([ 79., 118.,  96., ..., 147., 209., 223.], dtype=float32),\n",
              " array([242., 250., 154., ...,  15.,  26.,  18.], dtype=float32),\n",
              " array([234., 168., 152., ...,  67.,  45.,  33.], dtype=float32),\n",
              " array([130., 131., 132., ...,  17.,   9.,  10.], dtype=float32),\n",
              " array([ 30.,  25.,  19., ..., 169., 168., 166.], dtype=float32),\n",
              " array([177., 203., 157., ...,  56.,  55.,  58.], dtype=float32),\n",
              " array([22., 24., 23., ..., 90., 74., 62.], dtype=float32),\n",
              " ...]"
            ]
          },
          "metadata": {
            "tags": []
          },
          "execution_count": 15
        }
      ]
    },
    {
      "cell_type": "code",
      "metadata": {
        "id": "ac0bJW4Gf6de",
        "colab_type": "code",
        "colab": {}
      },
      "source": [
        "# Current training and test data sets are in the form of lists, we need to convert them into arrays\n",
        "\n",
        "X_train = np.array(X_train, dtype='float32')\n",
        "y_train = np.array(y_train, dtype='float32')\n",
        "X_test = np.array(X_test, dtype='float32')\n",
        "y_test = np.array(y_test, dtype='float32')"
      ],
      "execution_count": 0,
      "outputs": []
    },
    {
      "cell_type": "code",
      "metadata": {
        "id": "Ys2ykgFbiXIu",
        "colab_type": "code",
        "outputId": "d4419cc1-1907-4335-9414-9e95984f128d",
        "colab": {
          "base_uri": "https://localhost:8080/",
          "height": 136
        }
      },
      "source": [
        "X_train"
      ],
      "execution_count": 0,
      "outputs": [
        {
          "output_type": "execute_result",
          "data": {
            "text/plain": [
              "array([[ 70.,  80.,  82., ..., 106., 109.,  82.],\n",
              "       [151., 150., 147., ..., 193., 183., 184.],\n",
              "       [231., 212., 156., ...,  88., 110., 152.],\n",
              "       ...,\n",
              "       [ 74.,  81.,  87., ..., 188., 187., 187.],\n",
              "       [222., 227., 203., ..., 136., 136., 134.],\n",
              "       [195., 199., 205., ...,   6.,  15.,  38.]], dtype=float32)"
            ]
          },
          "metadata": {
            "tags": []
          },
          "execution_count": 17
        }
      ]
    },
    {
      "cell_type": "markdown",
      "metadata": {
        "id": "Eaegg2wsI42w",
        "colab_type": "text"
      },
      "source": [
        "### Normalize the inputs between [0, 1]"
      ]
    },
    {
      "cell_type": "code",
      "metadata": {
        "id": "i6R536yfiY4t",
        "colab_type": "code",
        "colab": {}
      },
      "source": [
        "# Normalize the inputs between [0, 1]\n",
        "X_train /= 255\n",
        "X_test /= 255"
      ],
      "execution_count": 0,
      "outputs": []
    },
    {
      "cell_type": "code",
      "metadata": {
        "id": "ifqcGRJyjaXq",
        "colab_type": "code",
        "outputId": "b7a7da30-b660-4f55-f872-d89aea9f5942",
        "colab": {
          "base_uri": "https://localhost:8080/",
          "height": 34
        }
      },
      "source": [
        "X_train.shape[0]"
      ],
      "execution_count": 0,
      "outputs": [
        {
          "output_type": "execute_result",
          "data": {
            "text/plain": [
              "28709"
            ]
          },
          "metadata": {
            "tags": []
          },
          "execution_count": 19
        }
      ]
    },
    {
      "cell_type": "markdown",
      "metadata": {
        "id": "YPgTvXVYI8j4",
        "colab_type": "text"
      },
      "source": [
        "### Reshape the inputs"
      ]
    },
    {
      "cell_type": "code",
      "metadata": {
        "id": "h2dv27RZi2xP",
        "colab_type": "code",
        "outputId": "47345228-c8b0-4a45-afdd-12958ad49828",
        "colab": {
          "base_uri": "https://localhost:8080/",
          "height": 51
        }
      },
      "source": [
        "# Reshape each value from 1D(28709) to 3D(48,48,1)\n",
        "\n",
        "X_train = X_train.reshape(X_train.shape[0], 48, 48, 1)\n",
        "X_train = X_train.astype('float32')\n",
        "X_test = X_test.reshape(X_test.shape[0], 48, 48, 1)\n",
        "X_test = X_test.astype('float32')\n",
        "\n",
        "print(X_train.shape[0], 'train samples')\n",
        "print(X_test.shape[0], 'test samples')"
      ],
      "execution_count": 0,
      "outputs": [
        {
          "output_type": "stream",
          "text": [
            "28709 train samples\n",
            "3589 test samples\n"
          ],
          "name": "stdout"
        }
      ]
    },
    {
      "cell_type": "code",
      "metadata": {
        "id": "HyOGOtmqi4i5",
        "colab_type": "code",
        "outputId": "910bdb88-df04-4b9b-f74e-3e2a07fe3f91",
        "colab": {
          "base_uri": "https://localhost:8080/",
          "height": 34
        }
      },
      "source": [
        "X_train.shape"
      ],
      "execution_count": 0,
      "outputs": [
        {
          "output_type": "execute_result",
          "data": {
            "text/plain": [
              "(28709, 48, 48, 1)"
            ]
          },
          "metadata": {
            "tags": []
          },
          "execution_count": 21
        }
      ]
    },
    {
      "cell_type": "markdown",
      "metadata": {
        "id": "EmaiXTzlPJQm",
        "colab_type": "text"
      },
      "source": [
        "### Batichfy the data\n",
        "\n",
        "Turn the data into batches as our CNN model would accept data in the form of batches."
      ]
    },
    {
      "cell_type": "code",
      "metadata": {
        "id": "tStBK1FwPlAq",
        "colab_type": "code",
        "colab": {}
      },
      "source": [
        "from keras.preprocessing import image\n",
        "from keras.preprocessing.image import ImageDataGenerator\n",
        "\n",
        "# Turn data to batches\n",
        "batch_size = 256\n",
        "gen = ImageDataGenerator()\n",
        "train_generator = gen.flow(X_train, y_train, batch_size = batch_size)"
      ],
      "execution_count": 0,
      "outputs": []
    },
    {
      "cell_type": "markdown",
      "metadata": {
        "id": "KJ7j8VxXv1jL",
        "colab_type": "text"
      },
      "source": [
        "## Construct a CNN (Convolutional Neural Network)\n",
        "\n",
        "Here we can start with Keras-Sequential as our base model."
      ]
    },
    {
      "cell_type": "markdown",
      "metadata": {
        "id": "kOFXWrboRTq0",
        "colab_type": "text"
      },
      "source": [
        "### Create a model"
      ]
    },
    {
      "cell_type": "code",
      "metadata": {
        "id": "zlMdNQoVKcfd",
        "colab_type": "code",
        "colab": {}
      },
      "source": [
        "from keras.models import Sequential\n",
        "from keras.layers import Conv2D, MaxPooling2D, AveragePooling2D\n",
        "from keras.layers import Dense, Activation, Dropout, Flatten\n",
        "\n",
        "model = Sequential()\n",
        "\n",
        "# 1st Convolutionla layer\n",
        "model.add(Conv2D(64, (5,5), activation='relu', input_shape=(48,48,1)))\n",
        "model.add(MaxPooling2D(pool_size=(5,5), strides=(2,2)))\n",
        "\n",
        "# 2nd Convolutionla layer\n",
        "model.add(Conv2D(64, (3,3), activation='relu'))\n",
        "model.add(Conv2D(64, (3,3), activation='relu'))\n",
        "model.add(AveragePooling2D(pool_size=(3,3), strides=(2,2)))\n",
        "\n",
        "# 3rd Convolutionla layer\n",
        "model.add(Conv2D(128, (3,3), activation='relu'))\n",
        "model.add(Conv2D(128, (3,3), activation='relu'))\n",
        "model.add(AveragePooling2D(pool_size=(3,3), strides=(2,2)))\n",
        "\n",
        "model.add(Flatten())\n",
        "\n",
        "# Fully connected Neural Network\n",
        "model.add(Dense(1024, activation='relu'))\n",
        "model.add(Dropout(0.2))\n",
        "model.add(Dense(1024, activation='relu'))\n",
        "model.add(Dropout(0.2))\n",
        "model.add(Dense(num_classes, activation='softmax'))\n",
        "\n",
        "# Compile the model\n",
        "model.compile(loss='categorical_crossentropy',\n",
        "              optimizer=keras.optimizers.Adam(),\n",
        "              metrics=['accuracy'])"
      ],
      "execution_count": 0,
      "outputs": []
    },
    {
      "cell_type": "markdown",
      "metadata": {
        "id": "niuAbpGVRWSW",
        "colab_type": "text"
      },
      "source": [
        "### Fit the model"
      ]
    },
    {
      "cell_type": "code",
      "metadata": {
        "id": "wm19dT1KWbfw",
        "colab_type": "code",
        "colab": {}
      },
      "source": [
        "# Assign number of epochs for which the model has to be trained\n",
        "epochs = 30 #@param{type:\"slider\", min:0, max:100, step:10}"
      ],
      "execution_count": 0,
      "outputs": []
    },
    {
      "cell_type": "code",
      "metadata": {
        "id": "0xXNRhq-RYVV",
        "colab_type": "code",
        "colab": {}
      },
      "source": [
        "fit = False\n",
        "\n",
        "if fit == True:\n",
        "  # Train the model on the entire data set\n",
        "  model.fit_generator(train_generator, steps_per_epoch=batch_size, epochs=epochs, verbose=1)\n",
        "\n",
        "  #Saving the model as a single .hdf5 file\n",
        "  # model.save('drive/My Drive/Expression Detection/model25.hdf5')\n",
        "  save_model(model, save_method='Pickle')\n",
        "else:\n",
        "  # load weights\n",
        "  #model.load_weights('drive/My Drive/Expression Detection/facial_expression_model_weights.h5')\n",
        "  pass\n"
      ],
      "execution_count": 0,
      "outputs": []
    },
    {
      "cell_type": "markdown",
      "metadata": {
        "id": "GTf9NTYxZo4p",
        "colab_type": "text"
      },
      "source": [
        "## Saving the model\n",
        "\n",
        "We can save a model using two methods.\n",
        "* Using Keras in-built save method.\n",
        "* Using Pickle dump method."
      ]
    },
    {
      "cell_type": "code",
      "metadata": {
        "id": "9E15Ge_Fd7Z4",
        "colab_type": "code",
        "colab": {}
      },
      "source": [
        "import pickle\n",
        "\n",
        "# Save a model using either uisng Keras `save()` method or Picke `dump()` method\n",
        "\n",
        "def save_model(model, save_method='Keras'):\n",
        "  if save_method == 'Keras':\n",
        "    # Method 1: Using Keras. Will be save as a single .hdf5 file\n",
        "    model.save(base_path+'model30.hdf5')\n",
        "  elif save_method == 'Pickle':\n",
        "    # Method 2 : Usign pickle\n",
        "    with open(base_path+'model30.pkl', 'wb') as file:\n",
        "      pickle.dump(model, file)\n",
        "  \n",
        "  print(\"Model saved.\")"
      ],
      "execution_count": 0,
      "outputs": []
    },
    {
      "cell_type": "code",
      "metadata": {
        "id": "PnQNx5SrnB8r",
        "colab_type": "code",
        "colab": {}
      },
      "source": [
        "#save_model(model, save_method='Keras')"
      ],
      "execution_count": 0,
      "outputs": []
    },
    {
      "cell_type": "markdown",
      "metadata": {
        "id": "JSuTd2MfZiKS",
        "colab_type": "text"
      },
      "source": [
        "## Load the saved model\n",
        "\n",
        "Similar to saving a model, we can load the model in two ways:\n",
        "* Using Keras `load_model()`\n",
        "* Using Pickle `load()`\n",
        "\n",
        "The loaded model can be directly used of prediction."
      ]
    },
    {
      "cell_type": "code",
      "metadata": {
        "id": "y8JlQMjzhPSp",
        "colab_type": "code",
        "colab": {}
      },
      "source": [
        "import pickle\n",
        "\n",
        "# Load a model using Keras or Pickle\n",
        "\n",
        "def load_model(load_method='Keras'):\n",
        "  model = None\n",
        "  if load_method == 'Keras':\n",
        "    # Method 1: Using Keras\n",
        "    model = keras.models.load_model(base_path+'model30.hdf5')\n",
        "  elif load_method == 'Pickle':\n",
        "    # Method 2: Using Pickle\n",
        "    with open(base_path+f'model30.pkl', 'rb') as f:\n",
        "      model = pickle.load(f)\n",
        "  \n",
        "  print(\"Model Loaded.\")\n",
        "  return model"
      ],
      "execution_count": 0,
      "outputs": []
    },
    {
      "cell_type": "code",
      "metadata": {
        "id": "9CePRt3Yaizg",
        "colab_type": "code",
        "outputId": "36f983f4-0a17-4764-c312-b4584b3799ab",
        "colab": {
          "base_uri": "https://localhost:8080/",
          "height": 34
        }
      },
      "source": [
        "loaded_model = load_model(load_method='Keras')"
      ],
      "execution_count": 0,
      "outputs": [
        {
          "output_type": "stream",
          "text": [
            "Model Loaded.\n"
          ],
          "name": "stdout"
        }
      ]
    },
    {
      "cell_type": "markdown",
      "metadata": {
        "id": "bIBSIRrwaz77",
        "colab_type": "text"
      },
      "source": [
        "## Evaluate the trained model\n",
        "\n",
        "Use the `evaluate()` method to evalute the trained model against train and test dataset"
      ]
    },
    {
      "cell_type": "code",
      "metadata": {
        "id": "TIjNDbJNb_Sb",
        "colab_type": "code",
        "outputId": "173bb620-b89f-4fd0-d630-19fb4dc79c53",
        "colab": {
          "base_uri": "https://localhost:8080/",
          "height": 119
        }
      },
      "source": [
        "train_score = loaded_model.evaluate(X_train, y_train, verbose=1)\n",
        "print(f\"Train loss : {train_score[0]}\")\n",
        "print(f\"Train accuracy : {train_score[1]}\")\n",
        "test_score = loaded_model.evaluate(X_test, y_test, verbose=1)\n",
        "print(f\"Test loss : {test_score[0]}\")\n",
        "print(f\"Test accuracy : {test_score[1]}\")"
      ],
      "execution_count": 0,
      "outputs": [
        {
          "output_type": "stream",
          "text": [
            "28709/28709 [==============================] - 9s 321us/step\n",
            "Train loss : 0.10656422008320872\n",
            "Train accuracy : 0.9660733342170715\n",
            "3589/3589 [==============================] - 0s 106us/step\n",
            "Test loss : 3.0733279346190776\n",
            "Test accuracy : 0.5617163777351379\n"
          ],
          "name": "stdout"
        }
      ]
    },
    {
      "cell_type": "markdown",
      "metadata": {
        "id": "yD-cfIRo2o5g",
        "colab_type": "text"
      },
      "source": [
        "### Function to analyze and plot the prediction results"
      ]
    },
    {
      "cell_type": "code",
      "metadata": {
        "id": "w1rye7DA3rRi",
        "colab_type": "code",
        "colab": {}
      },
      "source": [
        "def analyze_emotion(emotions):\n",
        "  label_values = ['angry', 'disgust', 'fear', 'happy', 'sad', 'surprise', 'neutral']\n",
        "  y_seq = np.arange(len(label_values))\n",
        "\n",
        "  plt.bar(y_seq, emotions, align='center', alpha=0.5)\n",
        "  plt.xticks(y_seq, labels=label_values)\n",
        "  plt.ylabel('Percentage')\n",
        "  plt.title('Emotion')\n",
        "  plt.show()"
      ],
      "execution_count": 0,
      "outputs": []
    },
    {
      "cell_type": "markdown",
      "metadata": {
        "id": "RIMfY9c5O-Vv",
        "colab_type": "text"
      },
      "source": [
        "### Confusion Matrix\n",
        "\n",
        "Plotting a confusin matrix between predicted labels and truth(ground) labels"
      ]
    },
    {
      "cell_type": "code",
      "metadata": {
        "id": "h2bxHzXuPSHO",
        "colab_type": "code",
        "outputId": "83c9b805-d242-40b4-9504-038e4c3890dc",
        "colab": {
          "base_uri": "https://localhost:8080/",
          "height": 374
        }
      },
      "source": [
        "from sklearn.metrics import confusion_matrix\n",
        "import seaborn as sn\n",
        "\n",
        "label_names = ['angry', 'disgust', 'fear', 'happy', 'sad', 'surprise', 'neutral']\n",
        "label_values = [0,1,2,3,4,5,6]\n",
        "\n",
        "# Make a predictions predictions list\n",
        "y_preds = loaded_model.predict(X_test)\n",
        "y_preds_mod, y_test_mod = [], []\n",
        "\n",
        "for pred in y_preds:\n",
        "  y_preds_mod.append(np.argmax(pred))\n",
        "\n",
        "for truth in y_test:\n",
        "  y_test_mod.append(np.argmax(truth))\n",
        "\n",
        "# Create a confusion matrix\n",
        "cm = confusion_matrix(y_test_mod, y_preds_mod, labels=label_values)\n",
        "\n",
        "# Visualize the confusion matrix using Seaborn heatmap\n",
        "df_cm = pd.DataFrame(cm,\n",
        "                     index=label_names,\n",
        "                     columns=label_names)\n",
        "plt.figure(figsize=(10,5))\n",
        "sn.heatmap(df_cm, annot=True, fmt='g');"
      ],
      "execution_count": 0,
      "outputs": [
        {
          "output_type": "stream",
          "text": [
            "/usr/local/lib/python3.6/dist-packages/statsmodels/tools/_testing.py:19: FutureWarning: pandas.util.testing is deprecated. Use the functions in the public API at pandas.testing instead.\n",
            "  import pandas.util.testing as tm\n"
          ],
          "name": "stderr"
        },
        {
          "output_type": "display_data",
          "data": {
            "image/png": "[encoded data removed]",
            "text/plain": [
              "<Figure size 720x360 with 2 Axes>"
            ]
          },
          "metadata": {
            "tags": [],
            "needs_background": "light"
          }
        }
      ]
    },
    {
      "cell_type": "markdown",
      "metadata": {
        "id": "k6CfRG9L6rEo",
        "colab_type": "text"
      },
      "source": [
        "## Testing the model with custom(external) data\n"
      ]
    },
    {
      "cell_type": "code",
      "metadata": {
        "id": "Xhnzfg41w7jL",
        "colab_type": "code",
        "outputId": "018b150a-0563-41c2-c012-b8e32c166e1e",
        "colab": {
          "base_uri": "https://localhost:8080/",
          "height": 532
        }
      },
      "source": [
        "file = \"drive/My Drive/Expression Detection/data/capture.jpg\"\n",
        "actual_image = image.load_img(file)\n",
        "img = image.load_img(file, color_mode='grayscale', target_size=(48,48))\n",
        "\n",
        "X_custom = image.img_to_array(img)\n",
        "X_custom = np.expand_dims(X_custom, axis=0)\n",
        "\n",
        "#normalize the cusotm input\n",
        "X_custom /= 255\n",
        "\n",
        "y_custom = loaded_model.predict(X_custom)\n",
        "analyze_emotion(y_custom[0])\n",
        "\n",
        "\n",
        "plt.gray()\n",
        "plt.imshow(actual_image)\n",
        "plt.show()\n"
      ],
      "execution_count": 0,
      "outputs": [
        {
          "output_type": "display_data",
          "data": {
            "image/png": "[encoded data removed]",
            "text/plain": [
              "<Figure size 432x288 with 1 Axes>"
            ]
          },
          "metadata": {
            "tags": [],
            "needs_background": "light"
          }
        },
        {
          "output_type": "display_data",
          "data": {
            "image/png": "[encoded data removed]",
            "text/plain": [
              "<Figure size 432x288 with 1 Axes>"
            ]
          },
          "metadata": {
            "tags": [],
            "needs_background": "light"
          }
        }
      ]
    },
    {
      "cell_type": "markdown",
      "metadata": {
        "id": "qE_N-HM-6ieE",
        "colab_type": "text"
      },
      "source": [
        "### Reduce noise in testing images using openCV2 and Haarcascade model.\n",
        "\n",
        "Before sending our custom image to the model for prediction, we have to make sure the all the un-necessary part of the image is removed. Haarcascade model with the help of openCV2 automatically detects the face in the model and trims the remaining part. \n",
        "Doing so, will make our model less confused and predict well.\n",
        "\n",
        "Create a function named `face_crop()` which will achieve the above behaviour."
      ]
    },
    {
      "cell_type": "code",
      "metadata": {
        "id": "CAM7yT3tmp4n",
        "colab_type": "code",
        "colab": {}
      },
      "source": [
        "def face_crop(image):\n",
        "  face_data = base_path + 'haarcascade_frontalface_alt.xml'\n",
        "  cascade = cv2.CascadeClassifier(face_data)\n",
        "  img = cv2.imread(image)\n",
        "  if (img is None):\n",
        "    print(\"Can't open image file\")\n",
        "    return 0\n",
        "\n",
        "  try:\n",
        "  \n",
        "    minisize = (img.shape[1], img.shape[0])\n",
        "    miniframe = cv2.resize(img, minisize)\n",
        "\n",
        "    faces = cascade.detectMultiScale(miniframe)\n",
        "    if (faces is None):\n",
        "      print('Failed to detect face')\n",
        "      return 0\n",
        "\n",
        "    facecnt = len(faces)\n",
        "    print(\"Detected faces: %d\" % facecnt)\n",
        "\n",
        "    for f in faces:\n",
        "      x, y, w, h = [v for v in f]\n",
        "      cv2.rectangle(img, (x,y), (x+w,y+w), (0,255,0), 2)\n",
        "      sub_face = img[y:y+h, x:x+w]\n",
        "      cv2.imwrite(base_path+'data/capture.jpg', sub_face)\n",
        "\n",
        "      #cv2.imwrite(image, sub_face)\n",
        "      \n",
        "    print(\"crop completed.\")\n",
        "\n",
        "  except Exception as e:\n",
        "    print(e)"
      ],
      "execution_count": 0,
      "outputs": []
    },
    {
      "cell_type": "code",
      "metadata": {
        "id": "O2rYT7eiTXRX",
        "colab_type": "code",
        "colab": {}
      },
      "source": [
        "def face_crop_new(image_path):\n",
        "  face_data = base_path + 'haarcascade_frontalface_alt.xml'\n",
        "  cascade = cv2.CascadeClassifier(face_data)\n",
        "  img = cv2.imread(image_path)\n",
        "\n",
        "  if (img is None):\n",
        "    print(\"Can't open image file\")\n",
        "    return 0\n",
        "\n",
        "  faces = cascade.detectMultiScale(img, 1.1, 3, minSize=(100, 100))\n",
        "  if (faces is None):\n",
        "    print('Failed to detect face')\n",
        "    return 0\n",
        "\n",
        "  facecnt = len(faces)\n",
        "  print(\"Detected faces: %d\" % facecnt)\n",
        "  i = 0\n",
        "  height, width = img.shape[:2]\n",
        "\n",
        "  for (x, y, w, h) in faces:\n",
        "    r = max(w, h) / 2\n",
        "    centerx = x + w / 2\n",
        "    centery = y + h / 2\n",
        "    nx = int(centerx - r)\n",
        "    ny = int(centery - r)\n",
        "    nr = int(r * 2)\n",
        "\n",
        "    faceimg = img[ny:ny+nr, nx:nx+nr]\n",
        "    lastimg = cv2.resize(faceimg, (48, 48))\n",
        "    i += 1\n",
        "    cv2.imwrite(base_path+\"data/capture%d.jpg\" % i, lastimg)\n"
      ],
      "execution_count": 0,
      "outputs": []
    },
    {
      "cell_type": "code",
      "metadata": {
        "id": "eIWeYYThrFl5",
        "colab_type": "code",
        "outputId": "aa6aa155-c725-488f-c606-7a590d15fb25",
        "colab": {
          "base_uri": "https://localhost:8080/",
          "height": 51
        }
      },
      "source": [
        "face_crop(base_path+'data/3.jpg')"
      ],
      "execution_count": 0,
      "outputs": [
        {
          "output_type": "stream",
          "text": [
            "Detected faces: 1\n",
            "crop completed.\n"
          ],
          "name": "stdout"
        }
      ]
    },
    {
      "cell_type": "markdown",
      "metadata": {
        "id": "GhwEk6QSOyck",
        "colab_type": "text"
      },
      "source": [
        "### CODE for Capturing an image on Colab"
      ]
    },
    {
      "cell_type": "code",
      "metadata": {
        "id": "wZNx_oMdsDPy",
        "colab_type": "code",
        "colab": {}
      },
      "source": [
        "# Referenced from here: https://colab.research.google.com/notebook#fileId=1OnUy6eFE7XhdfGfAHDCqQxpwueTOj_NO\n",
        "\n",
        "from IPython.display import display, Javascript\n",
        "from google.colab.output import eval_js\n",
        "from base64 import b64decode\n",
        "\n",
        "def take_photo(filename=base_path+'data/photo.jpg', quality=0.8):\n",
        "  js = Javascript('''\n",
        "    async function takePhoto(quality) {\n",
        "      const div = document.createElement('div');\n",
        "      const capture = document.createElement('button');\n",
        "      capture.textContent = 'Capture';\n",
        "      div.appendChild(capture);\n",
        "\n",
        "      const video = document.createElement('video');\n",
        "      video.style.display = 'block';\n",
        "      const stream = await navigator.mediaDevices.getUserMedia({video: true});\n",
        "\n",
        "      document.body.appendChild(div);\n",
        "      div.appendChild(video);\n",
        "      video.srcObject = stream;\n",
        "      await video.play();\n",
        "\n",
        "      // Resize the output to fit the video element.\n",
        "      google.colab.output.setIframeHeight(document.documentElement.scrollHeight, true);\n",
        "\n",
        "      // Wait for Capture to be clicked.\n",
        "      await new Promise((resolve) => capture.onclick = resolve);\n",
        "\n",
        "      const canvas = document.createElement('canvas');\n",
        "      canvas.width = video.videoWidth;\n",
        "      canvas.height = video.videoHeight;\n",
        "      canvas.getContext('2d').drawImage(video, 0, 0);\n",
        "      stream.getVideoTracks()[0].stop();\n",
        "      div.remove();\n",
        "      return canvas.toDataURL('image/jpeg', quality);\n",
        "    }\n",
        "    ''')\n",
        "  display(js)\n",
        "  data = eval_js('takePhoto({})'.format(quality))\n",
        "  binary = b64decode(data.split(',')[1])\n",
        "  with open(filename, 'wb') as f:\n",
        "    f.write(binary)\n",
        "  return filename"
      ],
      "execution_count": 0,
      "outputs": []
    },
    {
      "cell_type": "code",
      "metadata": {
        "id": "SqntW0YUyZ8g",
        "colab_type": "code",
        "colab": {}
      },
      "source": [
        "# take_photo(base_path+'data/photo.jpg')"
      ],
      "execution_count": 0,
      "outputs": []
    }
  ]
}